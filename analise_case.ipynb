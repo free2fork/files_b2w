{
  "nbformat": 4,
  "nbformat_minor": 0,
  "metadata": {
    "colab": {
      "name": "analise_case",
      "provenance": [],
      "collapsed_sections": [],
      "toc_visible": true
    },
    "kernelspec": {
      "name": "python3",
      "display_name": "Python 3"
    },
    "language_info": {
      "name": "python"
    }
  },
  "cells": [
    {
      "cell_type": "markdown",
      "metadata": {
        "id": "kTcE9b1mV1au"
      },
      "source": [
        "## Respostas"
      ]
    },
    {
      "cell_type": "markdown",
      "metadata": {
        "id": "bvx7oORRWAEX"
      },
      "source": [
        "### What does the data tell us ?"
      ]
    },
    {
      "cell_type": "markdown",
      "metadata": {
        "id": "SgbixNYoWbBF"
      },
      "source": [
        "Os dados demonstram uma relação direta entre preço, quantidade e receita. Se há aumento de preço a quantidade demandada é menor, e consequentemente também a receita. "
      ]
    },
    {
      "cell_type": "markdown",
      "metadata": {
        "id": "JN5JUwV4WJzT"
      },
      "source": [
        "### How are the different data sources related ?"
      ]
    },
    {
      "cell_type": "markdown",
      "metadata": {
        "id": "JJk8rKkJXq8y"
      },
      "source": [
        "Os dois conjuntos de dados estão relacionados através dos valores dos mesmos produtos vendidos pelos concorrentes e Marketplace."
      ]
    },
    {
      "cell_type": "markdown",
      "metadata": {
        "id": "5F3GGVyPWS8v"
      },
      "source": [
        "### Is there a particular competitor that seems more important ?"
      ]
    },
    {
      "cell_type": "markdown",
      "metadata": {
        "id": "AHbsRfZaYKLu"
      },
      "source": [
        "Do total de 6 competidores, cinco(C1,C2,C3,C4,C6) respondem por 91.4% do conjunto 'comp_prices'. Mais da análise está disponível no arquivo 'competitors_stats_report.html'.\n"
      ]
    },
    {
      "cell_type": "markdown",
      "metadata": {
        "id": "uMTmdcY4hkLW"
      },
      "source": [
        "## Considerações"
      ]
    },
    {
      "cell_type": "markdown",
      "metadata": {
        "id": "aQ5gVs_jh1Bf"
      },
      "source": [
        "### O conjunto de dados(sales) é estacionário"
      ]
    },
    {
      "cell_type": "markdown",
      "metadata": {
        "id": "4YpL4X7Vp5S-"
      },
      "source": [
        "*  Modelos de previsão com resultados significativos e confiáveis normalmente devem estar em um período de pelo menos 1 ano(completo), melhor ainda seriam dois, três ou mais anos. Somente assim é possível enxergar ciclos e tendências claras no conjunto de dados. Ou seja o conjunto de dados deve demonstrar um tendência **não-estacionária**.\n",
        "* Este não é o caso do presente conjunto de dados, que somente contém dados até Outubro de um único ano, 2015, portanto incompleto.\n",
        "* Sendo assim um modelo de previsão(demanda etc) baseado em uma série temporal torna-se inviável, dada as limitações citadas.\n",
        "* O presente conjunto demonstra uma tendência temporal **estacionária**, com médias, variância praticamente constantes no tempo. O conjunto fornecido não apresenta médias móveis. \n",
        "*  Portanto séries temporais estacionárias como a do presente conjunto tem capacidade limitada de 'prever' e estão mais suscetíveis a erros(sasonalidade, acontecimentos imprevistos) e valores extremos. Abaixo na análise foi proposto um modelo de regressão, elasticidade de preço da demanda.\n",
        "\n"
      ]
    },
    {
      "cell_type": "code",
      "metadata": {
        "id": "tv3bueOXk8F3"
      },
      "source": [
        "!pip install chart-studio\n",
        "!pip install pandas-profiling"
      ],
      "execution_count": null,
      "outputs": []
    },
    {
      "cell_type": "code",
      "metadata": {
        "id": "1RlEIckGlEz5"
      },
      "source": [
        "from datetime import datetime, timedelta,date\n",
        "import pandas as pd\n",
        "%matplotlib inline\n",
        "import matplotlib.pyplot as plt\n",
        "import numpy as np\n",
        "from __future__ import division\n",
        "\n",
        "import warnings\n",
        "warnings.filterwarnings(\"ignore\")\n",
        "\n",
        "import scipy.stats as stats\n",
        "import pylab\n",
        "import numpy as np\n",
        "import seaborn as sns\n",
        "\n",
        "import chart_studio.plotly.plotly as py\n",
        "from statsmodels.tsa.stattools import adfuller\n",
        "from scipy.stats import shapiro\n",
        "from statsmodels.formula.api import ols\n",
        "import plotly.graph_objects as go\n",
        "import plotly.offline as pyoff"
      ],
      "execution_count": 118,
      "outputs": []
    },
    {
      "cell_type": "code",
      "metadata": {
        "colab": {
          "base_uri": "https://localhost:8080/",
          "height": 171
        },
        "id": "WB58MEzNlJWr",
        "outputId": "9420b426-62de-499e-cab5-e74c23fffa62"
      },
      "source": [
        "sales = '/content/drive/MyDrive/data_B2W/sales.csv'\n",
        "#df = pd.read_csv(url)\n",
        "\n",
        "df_sales = pd.read_csv(sales)\n",
        "\n",
        "df_sales.head(4)"
      ],
      "execution_count": 119,
      "outputs": [
        {
          "output_type": "execute_result",
          "data": {
            "text/html": [
              "<div>\n",
              "<style scoped>\n",
              "    .dataframe tbody tr th:only-of-type {\n",
              "        vertical-align: middle;\n",
              "    }\n",
              "\n",
              "    .dataframe tbody tr th {\n",
              "        vertical-align: top;\n",
              "    }\n",
              "\n",
              "    .dataframe thead th {\n",
              "        text-align: right;\n",
              "    }\n",
              "</style>\n",
              "<table border=\"1\" class=\"dataframe\">\n",
              "  <thead>\n",
              "    <tr style=\"text-align: right;\">\n",
              "      <th></th>\n",
              "      <th>PROD_ID</th>\n",
              "      <th>DATE_ORDER</th>\n",
              "      <th>QTY_ORDER</th>\n",
              "      <th>REVENUE</th>\n",
              "    </tr>\n",
              "  </thead>\n",
              "  <tbody>\n",
              "    <tr>\n",
              "      <th>0</th>\n",
              "      <td>P6</td>\n",
              "      <td>2015-08-02</td>\n",
              "      <td>1.0</td>\n",
              "      <td>1808.99</td>\n",
              "    </tr>\n",
              "    <tr>\n",
              "      <th>1</th>\n",
              "      <td>P6</td>\n",
              "      <td>2015-08-17</td>\n",
              "      <td>1.0</td>\n",
              "      <td>1674.00</td>\n",
              "    </tr>\n",
              "    <tr>\n",
              "      <th>2</th>\n",
              "      <td>P6</td>\n",
              "      <td>2015-08-17</td>\n",
              "      <td>1.0</td>\n",
              "      <td>1673.95</td>\n",
              "    </tr>\n",
              "    <tr>\n",
              "      <th>3</th>\n",
              "      <td>P6</td>\n",
              "      <td>2015-08-11</td>\n",
              "      <td>1.0</td>\n",
              "      <td>1674.00</td>\n",
              "    </tr>\n",
              "  </tbody>\n",
              "</table>\n",
              "</div>"
            ],
            "text/plain": [
              "  PROD_ID  DATE_ORDER  QTY_ORDER  REVENUE\n",
              "0      P6  2015-08-02        1.0  1808.99\n",
              "1      P6  2015-08-17        1.0  1674.00\n",
              "2      P6  2015-08-17        1.0  1673.95\n",
              "3      P6  2015-08-11        1.0  1674.00"
            ]
          },
          "metadata": {
            "tags": []
          },
          "execution_count": 119
        }
      ]
    },
    {
      "cell_type": "code",
      "metadata": {
        "id": "dox2TwcelUvp"
      },
      "source": [
        "df_sales['DATE_ORDER'] = pd.to_datetime(df_sales['DATE_ORDER'])"
      ],
      "execution_count": 120,
      "outputs": []
    },
    {
      "cell_type": "code",
      "metadata": {
        "id": "q4CEVVGQpkeL"
      },
      "source": [
        "sales_growth = df_sales[(df_sales['DATE_ORDER'].dt.strftime('%Y-%m-%d') >= '2015-01-01') & (df_sales['DATE_ORDER'].dt.strftime('%Y-%m-%d') <= '2015-10-30')]"
      ],
      "execution_count": 121,
      "outputs": []
    },
    {
      "cell_type": "code",
      "metadata": {
        "id": "YlBmhHiRle8t"
      },
      "source": [
        "#groupby date e somando 'REVENUE', variável contínua.\n",
        "sales_growth = sales_growth.groupby('DATE_ORDER').REVENUE.sum().reset_index()"
      ],
      "execution_count": 122,
      "outputs": []
    },
    {
      "cell_type": "code",
      "metadata": {
        "colab": {
          "base_uri": "https://localhost:8080/",
          "height": 542
        },
        "id": "qtj6KqNnlnzw",
        "outputId": "dc844818-f328-45e3-abd1-3e3552345429"
      },
      "source": [
        "#gráfico mensal de 'REVENUE'\n",
        "plot_data = [\n",
        "    go.Scatter(\n",
        "        x=sales_growth['DATE_ORDER'],\n",
        "        y=sales_growth['REVENUE'],\n",
        "    )\n",
        "]\n",
        "plot_layout = go.Layout(\n",
        "        title='Vendas com tendência estacionária'\n",
        "    )\n",
        "fig = go.Figure(data=plot_data, layout=plot_layout)\n",
        "pyoff.iplot(fig)"
      ],
      "execution_count": 124,
      "outputs": [
        {
          "output_type": "display_data",
          "data": {
            "text/html": [
              "<html>\n",
              "<head><meta charset=\"utf-8\" /></head>\n",
              "<body>\n",
              "    <div>\n",
              "            <script src=\"https://cdnjs.cloudflare.com/ajax/libs/mathjax/2.7.5/MathJax.js?config=TeX-AMS-MML_SVG\"></script><script type=\"text/javascript\">if (window.MathJax) {MathJax.Hub.Config({SVG: {font: \"STIX-Web\"}});}</script>\n",
              "                <script type=\"text/javascript\">window.PlotlyConfig = {MathJaxConfig: 'local'};</script>\n",
              "        <script src=\"https://cdn.plot.ly/plotly-latest.min.js\"></script>    \n",
              "            <div id=\"4bca4722-3630-436d-bbbd-d3eba2a73582\" class=\"plotly-graph-div\" style=\"height:525px; width:100%;\"></div>\n",
              "            <script type=\"text/javascript\">\n",
              "                \n",
              "                    window.PLOTLYENV=window.PLOTLYENV || {};\n",
              "                    \n",
              "                if (document.getElementById(\"4bca4722-3630-436d-bbbd-d3eba2a73582\")) {\n",
              "                    Plotly.newPlot(\n",
              "                        '4bca4722-3630-436d-bbbd-d3eba2a73582',\n",
              "                        [{\"type\": \"scatter\", \"x\": [\"2015-01-01T00:00:00\", \"2015-01-02T00:00:00\", \"2015-01-03T00:00:00\", \"2015-01-04T00:00:00\", \"2015-01-05T00:00:00\", \"2015-01-06T00:00:00\", \"2015-01-07T00:00:00\", \"2015-01-08T00:00:00\", \"2015-01-09T00:00:00\", \"2015-01-10T00:00:00\", \"2015-01-11T00:00:00\", \"2015-01-12T00:00:00\", \"2015-01-13T00:00:00\", \"2015-01-14T00:00:00\", \"2015-01-15T00:00:00\", \"2015-01-16T00:00:00\", \"2015-01-17T00:00:00\", \"2015-01-18T00:00:00\", \"2015-01-19T00:00:00\", \"2015-01-20T00:00:00\", \"2015-01-21T00:00:00\", \"2015-01-22T00:00:00\", \"2015-01-23T00:00:00\", \"2015-01-24T00:00:00\", \"2015-01-25T00:00:00\", \"2015-01-26T00:00:00\", \"2015-01-27T00:00:00\", \"2015-01-28T00:00:00\", \"2015-01-29T00:00:00\", \"2015-01-30T00:00:00\", \"2015-01-31T00:00:00\", \"2015-02-01T00:00:00\", \"2015-02-02T00:00:00\", \"2015-02-03T00:00:00\", \"2015-02-04T00:00:00\", \"2015-02-05T00:00:00\", \"2015-02-06T00:00:00\", \"2015-02-07T00:00:00\", \"2015-02-08T00:00:00\", \"2015-02-09T00:00:00\", \"2015-02-10T00:00:00\", \"2015-02-11T00:00:00\", \"2015-02-12T00:00:00\", \"2015-02-13T00:00:00\", \"2015-02-14T00:00:00\", \"2015-02-15T00:00:00\", \"2015-02-16T00:00:00\", \"2015-02-17T00:00:00\", \"2015-02-18T00:00:00\", \"2015-02-19T00:00:00\", \"2015-02-20T00:00:00\", \"2015-02-21T00:00:00\", \"2015-02-22T00:00:00\", \"2015-02-23T00:00:00\", \"2015-02-24T00:00:00\", \"2015-02-25T00:00:00\", \"2015-02-26T00:00:00\", \"2015-02-27T00:00:00\", \"2015-02-28T00:00:00\", \"2015-03-01T00:00:00\", \"2015-03-02T00:00:00\", \"2015-03-03T00:00:00\", \"2015-03-04T00:00:00\", \"2015-03-05T00:00:00\", \"2015-03-06T00:00:00\", \"2015-03-07T00:00:00\", \"2015-03-08T00:00:00\", \"2015-03-09T00:00:00\", \"2015-03-10T00:00:00\", \"2015-03-11T00:00:00\", \"2015-03-12T00:00:00\", \"2015-03-13T00:00:00\", \"2015-03-14T00:00:00\", \"2015-03-15T00:00:00\", \"2015-03-16T00:00:00\", \"2015-03-17T00:00:00\", \"2015-03-18T00:00:00\", \"2015-03-19T00:00:00\", \"2015-03-20T00:00:00\", \"2015-03-21T00:00:00\", \"2015-03-22T00:00:00\", \"2015-03-23T00:00:00\", \"2015-03-24T00:00:00\", \"2015-03-25T00:00:00\", \"2015-03-26T00:00:00\", \"2015-03-27T00:00:00\", \"2015-03-28T00:00:00\", \"2015-03-29T00:00:00\", \"2015-03-30T00:00:00\", \"2015-03-31T00:00:00\", \"2015-04-01T00:00:00\", \"2015-04-02T00:00:00\", \"2015-04-03T00:00:00\", \"2015-04-04T00:00:00\", \"2015-04-05T00:00:00\", \"2015-04-06T00:00:00\", \"2015-04-07T00:00:00\", \"2015-04-08T00:00:00\", \"2015-04-09T00:00:00\", \"2015-04-10T00:00:00\", \"2015-04-11T00:00:00\", \"2015-04-12T00:00:00\", \"2015-04-13T00:00:00\", \"2015-04-14T00:00:00\", \"2015-04-15T00:00:00\", \"2015-04-16T00:00:00\", \"2015-04-17T00:00:00\", \"2015-04-18T00:00:00\", \"2015-04-19T00:00:00\", \"2015-04-20T00:00:00\", \"2015-04-21T00:00:00\", \"2015-04-22T00:00:00\", \"2015-04-23T00:00:00\", \"2015-04-24T00:00:00\", \"2015-04-25T00:00:00\", \"2015-04-26T00:00:00\", \"2015-04-27T00:00:00\", \"2015-04-28T00:00:00\", \"2015-04-29T00:00:00\", \"2015-04-30T00:00:00\", \"2015-05-01T00:00:00\", \"2015-05-02T00:00:00\", \"2015-05-03T00:00:00\", \"2015-05-04T00:00:00\", \"2015-05-05T00:00:00\", \"2015-05-06T00:00:00\", \"2015-05-07T00:00:00\", \"2015-05-08T00:00:00\", \"2015-05-09T00:00:00\", \"2015-05-10T00:00:00\", \"2015-05-11T00:00:00\", \"2015-05-12T00:00:00\", \"2015-05-13T00:00:00\", \"2015-05-14T00:00:00\", \"2015-05-15T00:00:00\", \"2015-05-16T00:00:00\", \"2015-05-17T00:00:00\", \"2015-05-18T00:00:00\", \"2015-05-19T00:00:00\", \"2015-05-20T00:00:00\", \"2015-05-21T00:00:00\", \"2015-05-22T00:00:00\", \"2015-05-23T00:00:00\", \"2015-05-24T00:00:00\", \"2015-05-25T00:00:00\", \"2015-05-26T00:00:00\", \"2015-05-27T00:00:00\", \"2015-05-28T00:00:00\", \"2015-05-29T00:00:00\", \"2015-05-30T00:00:00\", \"2015-05-31T00:00:00\", \"2015-06-01T00:00:00\", \"2015-06-02T00:00:00\", \"2015-06-03T00:00:00\", \"2015-06-04T00:00:00\", \"2015-06-05T00:00:00\", \"2015-06-06T00:00:00\", \"2015-06-07T00:00:00\", \"2015-06-08T00:00:00\", \"2015-06-09T00:00:00\", \"2015-06-10T00:00:00\", \"2015-06-11T00:00:00\", \"2015-06-12T00:00:00\", \"2015-06-13T00:00:00\", \"2015-06-14T00:00:00\", \"2015-06-15T00:00:00\", \"2015-06-16T00:00:00\", \"2015-06-17T00:00:00\", \"2015-06-18T00:00:00\", \"2015-06-19T00:00:00\", \"2015-06-20T00:00:00\", \"2015-06-21T00:00:00\", \"2015-06-22T00:00:00\", \"2015-06-23T00:00:00\", \"2015-06-24T00:00:00\", \"2015-06-25T00:00:00\", \"2015-06-26T00:00:00\", \"2015-06-27T00:00:00\", \"2015-06-28T00:00:00\", \"2015-06-29T00:00:00\", \"2015-06-30T00:00:00\", \"2015-07-01T00:00:00\", \"2015-07-02T00:00:00\", \"2015-07-03T00:00:00\", \"2015-07-04T00:00:00\", \"2015-07-05T00:00:00\", \"2015-07-06T00:00:00\", \"2015-07-07T00:00:00\", \"2015-07-08T00:00:00\", \"2015-07-09T00:00:00\", \"2015-07-10T00:00:00\", \"2015-07-11T00:00:00\", \"2015-07-12T00:00:00\", \"2015-07-13T00:00:00\", \"2015-07-14T00:00:00\", \"2015-07-15T00:00:00\", \"2015-07-16T00:00:00\", \"2015-07-17T00:00:00\", \"2015-07-18T00:00:00\", \"2015-07-19T00:00:00\", \"2015-07-20T00:00:00\", \"2015-07-21T00:00:00\", \"2015-07-22T00:00:00\", \"2015-07-23T00:00:00\", \"2015-07-24T00:00:00\", \"2015-07-25T00:00:00\", \"2015-07-26T00:00:00\", \"2015-07-27T00:00:00\", \"2015-07-28T00:00:00\", \"2015-07-29T00:00:00\", \"2015-07-30T00:00:00\", \"2015-07-31T00:00:00\", \"2015-08-01T00:00:00\", \"2015-08-02T00:00:00\", \"2015-08-03T00:00:00\", \"2015-08-04T00:00:00\", \"2015-08-05T00:00:00\", \"2015-08-06T00:00:00\", \"2015-08-07T00:00:00\", \"2015-08-08T00:00:00\", \"2015-08-09T00:00:00\", \"2015-08-10T00:00:00\", \"2015-08-11T00:00:00\", \"2015-08-12T00:00:00\", \"2015-08-13T00:00:00\", \"2015-08-14T00:00:00\", \"2015-08-15T00:00:00\", \"2015-08-16T00:00:00\", \"2015-08-17T00:00:00\", \"2015-08-18T00:00:00\", \"2015-08-19T00:00:00\", \"2015-08-20T00:00:00\", \"2015-08-21T00:00:00\", \"2015-08-22T00:00:00\", \"2015-08-23T00:00:00\", \"2015-08-24T00:00:00\", \"2015-08-25T00:00:00\", \"2015-08-26T00:00:00\", \"2015-08-27T00:00:00\", \"2015-08-28T00:00:00\", \"2015-08-29T00:00:00\", \"2015-08-30T00:00:00\", \"2015-08-31T00:00:00\", \"2015-09-01T00:00:00\", \"2015-09-02T00:00:00\", \"2015-09-03T00:00:00\", \"2015-09-04T00:00:00\", \"2015-09-05T00:00:00\", \"2015-09-06T00:00:00\", \"2015-09-07T00:00:00\", \"2015-09-08T00:00:00\", \"2015-09-09T00:00:00\", \"2015-09-10T00:00:00\", \"2015-09-11T00:00:00\", \"2015-09-12T00:00:00\", \"2015-09-13T00:00:00\", \"2015-09-14T00:00:00\", \"2015-09-15T00:00:00\", \"2015-09-16T00:00:00\", \"2015-09-17T00:00:00\", \"2015-09-18T00:00:00\", \"2015-09-19T00:00:00\", \"2015-09-20T00:00:00\", \"2015-09-21T00:00:00\", \"2015-09-22T00:00:00\", \"2015-09-23T00:00:00\", \"2015-09-24T00:00:00\", \"2015-09-25T00:00:00\", \"2015-09-26T00:00:00\", \"2015-09-27T00:00:00\", \"2015-09-28T00:00:00\", \"2015-09-29T00:00:00\", \"2015-09-30T00:00:00\", \"2015-10-01T00:00:00\", \"2015-10-02T00:00:00\", \"2015-10-03T00:00:00\", \"2015-10-04T00:00:00\", \"2015-10-05T00:00:00\", \"2015-10-06T00:00:00\", \"2015-10-07T00:00:00\", \"2015-10-08T00:00:00\", \"2015-10-09T00:00:00\", \"2015-10-10T00:00:00\", \"2015-10-11T00:00:00\", \"2015-10-12T00:00:00\", \"2015-10-13T00:00:00\", \"2015-10-14T00:00:00\"], \"y\": [276770.70999999996, 737336.9399999998, 595984.5999999997, 536196.2599999999, 1033821.6399999995, 1574094.0700000003, 1926214.59, 229369.43000000005, 360836.47999999986, 269499.9, 173095.02, 229048.17, 340877.45, 422051.4399999999, 505439.14999999985, 666137.0999999995, 184967.44000000026, 218363.09000000046, 558678.9399999996, 701814.4199999997, 762077.9899999998, 596270.24, 726669.0799999998, 606840.9499999996, 436749.67999999993, 684071.9799999997, 656010.7899999997, 524707.7699999999, 722033.5799999998, 593832.8500000001, 382921.06000000006, 307012.75, 697750.2899999998, 1278654.4199999995, 1238249.6500000027, 641676.6499999997, 829900.9600000017, 931579.1100000048, 754768.6300000023, 602922.1899999995, 1027710.2999999993, 2181679.110000002, 1252597.2500000005, 689257.0199999991, 575283.1500000017, 389887.91000000027, 553182.9700000024, 489501.8600000021, 1195931.9100000015, 836706.6599999996, 714497.5999999997, 756043.5899999994, 494925.5699999995, 845134.8199999998, 896435.1399999999, 813926.5699999989, 871148.219999999, 861112.2499999997, 706352.3499999996, 1001006.2299999993, 1352098.7700000042, 2476064.1600000425, 1489294.6999999988, 488182.36999999895, 561570.47, 891396.9699999989, 520260.55000000034, 487581.5999999995, 721229.3799999976, 1012924.8099999916, 855114.3699999951, 572675.5099999973, 140676.99000000017, 204100.59000000003, 439197.8500000002, 1550809.140000002, 3000580.570000001, 950165.3999999999, 753784.0799999994, 583528.3499999996, 227254.9899999998, 286682.3799999998, 380065.0199999988, 478376.06999999785, 356257.2099999995, 414405.8100000018, 317957.5800000011, 321244.32000000007, 693946.6099999988, 506207.23000000004, 420571.9100000002, 441409.3500000009, 380862.429999999, 449468.3799999989, 356664.6099999995, 484777.61999999976, 504361.7999999992, 1013906.1499999991, 540202.7499999993, 883488.85, 1192249.8500000006, 1033087.39, 1169884.6800000004, 866229.5699999994, 1443408.620000002, 764589.97, 632282.58, 493563.8399999993, 355136.1099999999, 625025.6599999992, 806590.229999999, 646630.7399999993, 1168037.97, 1137064.5799999998, 887878.5199999992, 746132.9399999992, 1206141.5499999996, 1463854.5500000056, 976034.4799999997, 2056749.6900000062, 2597399.82, 2314761.5500000045, 1635122.9400000016, 1943540.2000000046, 851719.6600000001, 749371.6799999997, 1019757.969999999, 1385237.6200000013, 1902693.8100000047, 973937.9199999998, 782945.5100000006, 907578.6100000013, 979573.9099999998, 2212709.469999983, 1618929.1900000328, 1003667.7700000159, 449651.05999999883, 246815.83999999944, 377562.4999999998, 436164.7999999986, 821362.6900000095, 1300369.1600000327, 937777.5800000146, 447664.649999998, 362382.8299999995, 3215201.020000004, 5593020.460000063, 1595690.7200000219, 371272.1500000014, 323513.3499999983, 261476.0899999973, 366122.58000000054, 505223.0199999992, 398751.74999999924, 360379.0999999998, 406653.3699999996, 291191.80999999994, 289887.47999999986, 669432.5900000003, 682437.1600000005, 426230.3599999999, 781009.1500000005, 722075.1100000002, 674655.4900000002, 470365.04999999964, 888379.3100000006, 1511376.499999999, 1797165.3800000013, 1969240.1199999985, 980006.0699999998, 698498.6199999955, 561488.6800000002, 415757.5500000013, 967674.7800000018, 2038994.750000002, 2618407.6100000073, 1745916.4599999997, 393328.59000000067, 212252.15999999974, 1600720.1800000006, 1846674.7500000028, 364804.43, 1298972.4599999993, 683618.6999999989, 794557.14, 721585.71, 657830.3599999998, 1632375.5800000187, 1459686.0300000184, 865417.4500000003, 847094.1999999996, 736576.5899999995, 550707.8899999997, 593578.7600000019, 880615.970000002, 1661636.879999992, 1300398.7099999941, 1065721.4500000011, 787751.4600000004, 723943.7900000007, 1178401.0099999995, 873781.3299999994, 417506.9599999993, 514389.7999999984, 683673.6600000032, 500150.6999999998, 402181.3, 822260.1200000031, 903202.1700000074, 706875.2700000061, 1269776.050000023, 1044318.1700000298, 321040.1699999991, 144414.52999999997, 302794.9699999998, 536624.9200000002, 378986.8800000001, 600046.2699999986, 506062.1099999991, 532566.0499999956, 338373.11999999784, 589174.9800000025, 487412.5199999986, 297754.3199999999, 242969.93999999994, 261032.04999999996, 210434.3199999996, 182366.70999999982, 356754.8499999981, 3588217.530000027, 8273142.299999791, 5028539.550000006, 1524360.7199999986, 203202.62999999998, 189725.0200000001, 573608.4299999987, 604840.6800000005, 404629.39999999973, 223497.6399999998, 178410.4600000002, 154919.64000000007, 158697.1399999999, 1525252.1200000085, 4380958.840000004, 4768447.459999965, 2093357.6000000075, 1208223.98, 1141946.779999995, 1088014.5899999903, 840263.8699999938, 434977.5799999992, 968988.6599999961, 1468296.4799999865, 1395741.4499999953, 348885.3300000002, 327189.29000000015, 845224.9699999981, 1370834.539999994, 1202238.8199999968, 865382.6999999994, 1232127.840000002, 1152377.4499999997, 1422770.1100000022, 291957.8799999988, 1255327.139999989, 3768529.569999999, 2962005.7300000135, 321848.22999999905, 340302.89000000095, 375860.25000000163, 718390.2599999987, 1269443.739999998, 1707883.1800000095, 2574241.820000014, 2172124.3500000164, 664639.6699999993, 460334.7699999956, 697286.2300000034, 359627.4400000001, 656500.4700000031, 993537.0800000173, 692464.2200000071, 392524.4300000005, 233102.11999999912, 360835.4299999991, 1019201.9600000011, 2104163.320000003]}],\n",
              "                        {\"template\": {\"data\": {\"bar\": [{\"error_x\": {\"color\": \"#2a3f5f\"}, \"error_y\": {\"color\": \"#2a3f5f\"}, \"marker\": {\"line\": {\"color\": \"#E5ECF6\", \"width\": 0.5}}, \"type\": \"bar\"}], \"barpolar\": [{\"marker\": {\"line\": {\"color\": \"#E5ECF6\", \"width\": 0.5}}, \"type\": \"barpolar\"}], \"carpet\": [{\"aaxis\": {\"endlinecolor\": \"#2a3f5f\", \"gridcolor\": \"white\", \"linecolor\": \"white\", \"minorgridcolor\": \"white\", \"startlinecolor\": \"#2a3f5f\"}, \"baxis\": {\"endlinecolor\": \"#2a3f5f\", \"gridcolor\": \"white\", \"linecolor\": \"white\", \"minorgridcolor\": \"white\", \"startlinecolor\": \"#2a3f5f\"}, \"type\": \"carpet\"}], \"choropleth\": [{\"colorbar\": {\"outlinewidth\": 0, \"ticks\": \"\"}, \"type\": \"choropleth\"}], \"contour\": [{\"colorbar\": {\"outlinewidth\": 0, \"ticks\": \"\"}, \"colorscale\": [[0.0, \"#0d0887\"], [0.1111111111111111, \"#46039f\"], [0.2222222222222222, \"#7201a8\"], [0.3333333333333333, \"#9c179e\"], [0.4444444444444444, \"#bd3786\"], [0.5555555555555556, \"#d8576b\"], [0.6666666666666666, \"#ed7953\"], [0.7777777777777778, \"#fb9f3a\"], [0.8888888888888888, \"#fdca26\"], [1.0, \"#f0f921\"]], \"type\": \"contour\"}], \"contourcarpet\": [{\"colorbar\": {\"outlinewidth\": 0, \"ticks\": \"\"}, \"type\": \"contourcarpet\"}], \"heatmap\": [{\"colorbar\": {\"outlinewidth\": 0, \"ticks\": \"\"}, \"colorscale\": [[0.0, \"#0d0887\"], [0.1111111111111111, \"#46039f\"], [0.2222222222222222, \"#7201a8\"], [0.3333333333333333, \"#9c179e\"], [0.4444444444444444, \"#bd3786\"], [0.5555555555555556, \"#d8576b\"], [0.6666666666666666, \"#ed7953\"], [0.7777777777777778, \"#fb9f3a\"], [0.8888888888888888, \"#fdca26\"], [1.0, \"#f0f921\"]], \"type\": \"heatmap\"}], \"heatmapgl\": [{\"colorbar\": {\"outlinewidth\": 0, \"ticks\": \"\"}, \"colorscale\": [[0.0, \"#0d0887\"], [0.1111111111111111, \"#46039f\"], [0.2222222222222222, \"#7201a8\"], [0.3333333333333333, \"#9c179e\"], [0.4444444444444444, \"#bd3786\"], [0.5555555555555556, \"#d8576b\"], [0.6666666666666666, \"#ed7953\"], [0.7777777777777778, \"#fb9f3a\"], [0.8888888888888888, \"#fdca26\"], [1.0, \"#f0f921\"]], \"type\": \"heatmapgl\"}], \"histogram\": [{\"marker\": {\"colorbar\": {\"outlinewidth\": 0, \"ticks\": \"\"}}, \"type\": \"histogram\"}], \"histogram2d\": [{\"colorbar\": {\"outlinewidth\": 0, \"ticks\": \"\"}, \"colorscale\": [[0.0, \"#0d0887\"], [0.1111111111111111, \"#46039f\"], [0.2222222222222222, \"#7201a8\"], [0.3333333333333333, \"#9c179e\"], [0.4444444444444444, \"#bd3786\"], [0.5555555555555556, \"#d8576b\"], [0.6666666666666666, \"#ed7953\"], [0.7777777777777778, \"#fb9f3a\"], [0.8888888888888888, \"#fdca26\"], [1.0, \"#f0f921\"]], \"type\": \"histogram2d\"}], \"histogram2dcontour\": [{\"colorbar\": {\"outlinewidth\": 0, \"ticks\": \"\"}, \"colorscale\": [[0.0, \"#0d0887\"], [0.1111111111111111, \"#46039f\"], [0.2222222222222222, \"#7201a8\"], [0.3333333333333333, \"#9c179e\"], [0.4444444444444444, \"#bd3786\"], [0.5555555555555556, \"#d8576b\"], [0.6666666666666666, \"#ed7953\"], [0.7777777777777778, \"#fb9f3a\"], [0.8888888888888888, \"#fdca26\"], [1.0, \"#f0f921\"]], \"type\": \"histogram2dcontour\"}], \"mesh3d\": [{\"colorbar\": {\"outlinewidth\": 0, \"ticks\": \"\"}, \"type\": \"mesh3d\"}], \"parcoords\": [{\"line\": {\"colorbar\": {\"outlinewidth\": 0, \"ticks\": \"\"}}, \"type\": \"parcoords\"}], \"pie\": [{\"automargin\": true, \"type\": \"pie\"}], \"scatter\": [{\"marker\": {\"colorbar\": {\"outlinewidth\": 0, \"ticks\": \"\"}}, \"type\": \"scatter\"}], \"scatter3d\": [{\"line\": {\"colorbar\": {\"outlinewidth\": 0, \"ticks\": \"\"}}, \"marker\": {\"colorbar\": {\"outlinewidth\": 0, \"ticks\": \"\"}}, \"type\": \"scatter3d\"}], \"scattercarpet\": [{\"marker\": {\"colorbar\": {\"outlinewidth\": 0, \"ticks\": \"\"}}, \"type\": \"scattercarpet\"}], \"scattergeo\": [{\"marker\": {\"colorbar\": {\"outlinewidth\": 0, \"ticks\": \"\"}}, \"type\": \"scattergeo\"}], \"scattergl\": [{\"marker\": {\"colorbar\": {\"outlinewidth\": 0, \"ticks\": \"\"}}, \"type\": \"scattergl\"}], \"scattermapbox\": [{\"marker\": {\"colorbar\": {\"outlinewidth\": 0, \"ticks\": \"\"}}, \"type\": \"scattermapbox\"}], \"scatterpolar\": [{\"marker\": {\"colorbar\": {\"outlinewidth\": 0, \"ticks\": \"\"}}, \"type\": \"scatterpolar\"}], \"scatterpolargl\": [{\"marker\": {\"colorbar\": {\"outlinewidth\": 0, \"ticks\": \"\"}}, \"type\": \"scatterpolargl\"}], \"scatterternary\": [{\"marker\": {\"colorbar\": {\"outlinewidth\": 0, \"ticks\": \"\"}}, \"type\": \"scatterternary\"}], \"surface\": [{\"colorbar\": {\"outlinewidth\": 0, \"ticks\": \"\"}, \"colorscale\": [[0.0, \"#0d0887\"], [0.1111111111111111, \"#46039f\"], [0.2222222222222222, \"#7201a8\"], [0.3333333333333333, \"#9c179e\"], [0.4444444444444444, \"#bd3786\"], [0.5555555555555556, \"#d8576b\"], [0.6666666666666666, \"#ed7953\"], [0.7777777777777778, \"#fb9f3a\"], [0.8888888888888888, \"#fdca26\"], [1.0, \"#f0f921\"]], \"type\": \"surface\"}], \"table\": [{\"cells\": {\"fill\": {\"color\": \"#EBF0F8\"}, \"line\": {\"color\": \"white\"}}, \"header\": {\"fill\": {\"color\": \"#C8D4E3\"}, \"line\": {\"color\": \"white\"}}, \"type\": \"table\"}]}, \"layout\": {\"annotationdefaults\": {\"arrowcolor\": \"#2a3f5f\", \"arrowhead\": 0, \"arrowwidth\": 1}, \"coloraxis\": {\"colorbar\": {\"outlinewidth\": 0, \"ticks\": \"\"}}, \"colorscale\": {\"diverging\": [[0, \"#8e0152\"], [0.1, \"#c51b7d\"], [0.2, \"#de77ae\"], [0.3, \"#f1b6da\"], [0.4, \"#fde0ef\"], [0.5, \"#f7f7f7\"], [0.6, \"#e6f5d0\"], [0.7, \"#b8e186\"], [0.8, \"#7fbc41\"], [0.9, \"#4d9221\"], [1, \"#276419\"]], \"sequential\": [[0.0, \"#0d0887\"], [0.1111111111111111, \"#46039f\"], [0.2222222222222222, \"#7201a8\"], [0.3333333333333333, \"#9c179e\"], [0.4444444444444444, \"#bd3786\"], [0.5555555555555556, \"#d8576b\"], [0.6666666666666666, \"#ed7953\"], [0.7777777777777778, \"#fb9f3a\"], [0.8888888888888888, \"#fdca26\"], [1.0, \"#f0f921\"]], \"sequentialminus\": [[0.0, \"#0d0887\"], [0.1111111111111111, \"#46039f\"], [0.2222222222222222, \"#7201a8\"], [0.3333333333333333, \"#9c179e\"], [0.4444444444444444, \"#bd3786\"], [0.5555555555555556, \"#d8576b\"], [0.6666666666666666, \"#ed7953\"], [0.7777777777777778, \"#fb9f3a\"], [0.8888888888888888, \"#fdca26\"], [1.0, \"#f0f921\"]]}, \"colorway\": [\"#636efa\", \"#EF553B\", \"#00cc96\", \"#ab63fa\", \"#FFA15A\", \"#19d3f3\", \"#FF6692\", \"#B6E880\", \"#FF97FF\", \"#FECB52\"], \"font\": {\"color\": \"#2a3f5f\"}, \"geo\": {\"bgcolor\": \"white\", \"lakecolor\": \"white\", \"landcolor\": \"#E5ECF6\", \"showlakes\": true, \"showland\": true, \"subunitcolor\": \"white\"}, \"hoverlabel\": {\"align\": \"left\"}, \"hovermode\": \"closest\", \"mapbox\": {\"style\": \"light\"}, \"paper_bgcolor\": \"white\", \"plot_bgcolor\": \"#E5ECF6\", \"polar\": {\"angularaxis\": {\"gridcolor\": \"white\", \"linecolor\": \"white\", \"ticks\": \"\"}, \"bgcolor\": \"#E5ECF6\", \"radialaxis\": {\"gridcolor\": \"white\", \"linecolor\": \"white\", \"ticks\": \"\"}}, \"scene\": {\"xaxis\": {\"backgroundcolor\": \"#E5ECF6\", \"gridcolor\": \"white\", \"gridwidth\": 2, \"linecolor\": \"white\", \"showbackground\": true, \"ticks\": \"\", \"zerolinecolor\": \"white\"}, \"yaxis\": {\"backgroundcolor\": \"#E5ECF6\", \"gridcolor\": \"white\", \"gridwidth\": 2, \"linecolor\": \"white\", \"showbackground\": true, \"ticks\": \"\", \"zerolinecolor\": \"white\"}, \"zaxis\": {\"backgroundcolor\": \"#E5ECF6\", \"gridcolor\": \"white\", \"gridwidth\": 2, \"linecolor\": \"white\", \"showbackground\": true, \"ticks\": \"\", \"zerolinecolor\": \"white\"}}, \"shapedefaults\": {\"line\": {\"color\": \"#2a3f5f\"}}, \"ternary\": {\"aaxis\": {\"gridcolor\": \"white\", \"linecolor\": \"white\", \"ticks\": \"\"}, \"baxis\": {\"gridcolor\": \"white\", \"linecolor\": \"white\", \"ticks\": \"\"}, \"bgcolor\": \"#E5ECF6\", \"caxis\": {\"gridcolor\": \"white\", \"linecolor\": \"white\", \"ticks\": \"\"}}, \"title\": {\"x\": 0.05}, \"xaxis\": {\"automargin\": true, \"gridcolor\": \"white\", \"linecolor\": \"white\", \"ticks\": \"\", \"title\": {\"standoff\": 15}, \"zerolinecolor\": \"white\", \"zerolinewidth\": 2}, \"yaxis\": {\"automargin\": true, \"gridcolor\": \"white\", \"linecolor\": \"white\", \"ticks\": \"\", \"title\": {\"standoff\": 15}, \"zerolinecolor\": \"white\", \"zerolinewidth\": 2}}}, \"title\": {\"text\": \"Vendas com tend\\u00eancia estacion\\u00e1ria\"}},\n",
              "                        {\"responsive\": true}\n",
              "                    ).then(function(){\n",
              "                            \n",
              "var gd = document.getElementById('4bca4722-3630-436d-bbbd-d3eba2a73582');\n",
              "var x = new MutationObserver(function (mutations, observer) {{\n",
              "        var display = window.getComputedStyle(gd).display;\n",
              "        if (!display || display === 'none') {{\n",
              "            console.log([gd, 'removed!']);\n",
              "            Plotly.purge(gd);\n",
              "            observer.disconnect();\n",
              "        }}\n",
              "}});\n",
              "\n",
              "// Listen for the removal of the full notebook cells\n",
              "var notebookContainer = gd.closest('#notebook-container');\n",
              "if (notebookContainer) {{\n",
              "    x.observe(notebookContainer, {childList: true});\n",
              "}}\n",
              "\n",
              "// Listen for the clearing of the current output cell\n",
              "var outputEl = gd.closest('.output');\n",
              "if (outputEl) {{\n",
              "    x.observe(outputEl, {childList: true});\n",
              "}}\n",
              "\n",
              "                        })\n",
              "                };\n",
              "                \n",
              "            </script>\n",
              "        </div>\n",
              "</body>\n",
              "</html>"
            ]
          },
          "metadata": {
            "tags": []
          }
        }
      ]
    },
    {
      "cell_type": "markdown",
      "metadata": {
        "id": "Z1QhMx6UmezJ"
      },
      "source": [
        "*  O gráfico acima demonstra claramente não haver nenhuma tendência no conjunto(sales). Ou seja nenhum modelo é eficiente para explicar variações de maneira precisa. A média(e outros parâmetros) não é móvel.\n"
      ]
    },
    {
      "cell_type": "markdown",
      "metadata": {
        "id": "zp2Q0QJsl9vL"
      },
      "source": [
        "#### Teste estatístico de estacionariedade"
      ]
    },
    {
      "cell_type": "code",
      "metadata": {
        "colab": {
          "base_uri": "https://localhost:8080/"
        },
        "id": "gvtZOKw-mSHT",
        "outputId": "f62ab9df-4b96-4f62-c5b0-10c51143946d"
      },
      "source": [
        "# extraindo valores\n",
        "X = sales_growth.REVENUE\n",
        "\n",
        "# aplicando ADF e imprimindo resultados\n",
        "result = adfuller(X)\n",
        "print('ADF')\n",
        "print('Resultado do teste: {:.4f}'.format(result[0]))\n",
        "print('P Value: {:.10f}'.format(result[1]))\n",
        "print('Valores críticos:')\n",
        "for key, value in result[4].items():\n",
        "\tprint('\\t{}: {:.4f}'.format(key, value))"
      ],
      "execution_count": 125,
      "outputs": [
        {
          "output_type": "stream",
          "text": [
            "ADF\n",
            "Resultado do teste: -3.6808\n",
            "P Value: 0.0043908523\n",
            "Valores críticos:\n",
            "\t1%: -3.4544\n",
            "\t5%: -2.8721\n",
            "\t10%: -2.5724\n"
          ],
          "name": "stdout"
        }
      ]
    },
    {
      "cell_type": "markdown",
      "metadata": {
        "id": "RVimhYNqmc08"
      },
      "source": [
        "Tanto o valor do 'Resultado do teste', como 'p-value' são muito baixos, confirmando que o presente conjunto é **estacionário**. \n",
        "<br>Caso contrário o valor de p-value seria o responsável por confirmar a hipótese nula do teste acima de que o conjunto é **'não-estacionário'**"
      ]
    },
    {
      "cell_type": "markdown",
      "metadata": {
        "id": "-QPu2cJgh4sd"
      },
      "source": [
        "### Conjunto de dados 'Não-Gaussiano'."
      ]
    },
    {
      "cell_type": "markdown",
      "metadata": {
        "id": "jLK7mBtbnU1F"
      },
      "source": [
        "Testes estatísticos de 'Normalidade'"
      ]
    },
    {
      "cell_type": "markdown",
      "metadata": {
        "id": "gopEkBhToAO9"
      },
      "source": [
        "#### Quantile-Quantile (QQ Plot)"
      ]
    },
    {
      "cell_type": "code",
      "metadata": {
        "colab": {
          "base_uri": "https://localhost:8080/",
          "height": 294
        },
        "id": "5f45inQGnb3X",
        "outputId": "5a681c50-cbf0-4e9c-ee24-afc38f7fc7c5"
      },
      "source": [
        "sales_growth = sales_growth['REVENUE']\n",
        "stats.probplot(sales_growth, dist=\"norm\", plot=pylab)\n",
        "pylab.show()"
      ],
      "execution_count": 126,
      "outputs": [
        {
          "output_type": "display_data",
          "data": {
            "image/png": "[encoded data removed]",
            "text/plain": [
              "<Figure size 432x288 with 1 Axes>"
            ]
          },
          "metadata": {
            "tags": [],
            "needs_background": "light"
          }
        }
      ]
    },
    {
      "cell_type": "markdown",
      "metadata": {
        "id": "p37E42prq--_"
      },
      "source": [
        "O gráfico acima demonstra pontos azuis com pouca sobreposição a linha vermelha, demonstrando 'Não-Normalidade'. Com desvios nas extremidades."
      ]
    },
    {
      "cell_type": "markdown",
      "metadata": {
        "id": "_9DjfLRsoH2h"
      },
      "source": [
        "#### Histograma"
      ]
    },
    {
      "cell_type": "code",
      "metadata": {
        "colab": {
          "base_uri": "https://localhost:8080/",
          "height": 290
        },
        "id": "3K4cl73MoV-6",
        "outputId": "19534f84-9779-4eb9-a90a-1dd23809b645"
      },
      "source": [
        "ax = sns.distplot(sales_growth)"
      ],
      "execution_count": 127,
      "outputs": [
        {
          "output_type": "display_data",
          "data": {
            "image/png": "[encoded data removed]",
            "text/plain": [
              "<Figure size 432x288 with 1 Axes>"
            ]
          },
          "metadata": {
            "tags": [],
            "needs_background": "light"
          }
        }
      ]
    },
    {
      "cell_type": "markdown",
      "metadata": {
        "id": "RxbxW4BTsX6b"
      },
      "source": [
        "O histograma acima também confirma uma distribuição bem assimétrica, tipo despenhadeiro, com muitos valores baixos a esquerda e poucos valores altos à direita. No relatório que acompanha junto com os arquivos 'sales_stats.html' é possível visualizar que estes representam menos de 0.1% do conjunto."
      ]
    },
    {
      "cell_type": "markdown",
      "metadata": {
        "id": "VidPc-yHoumc"
      },
      "source": [
        "#### Teste de 'Normalidade' "
      ]
    },
    {
      "cell_type": "markdown",
      "metadata": {
        "id": "ze3G4bXHtrwD"
      },
      "source": [
        "Confirma ou nega a hipótese nula de que a variável em questão tem distribuição 'Normal'. Se p-value > 0.05 a distribuição é 'Gaussiana', caso contrário se p-value < 0.05 é 'Não-Gaussiana'."
      ]
    },
    {
      "cell_type": "code",
      "metadata": {
        "colab": {
          "base_uri": "https://localhost:8080/"
        },
        "id": "_PiUvjCaovH7",
        "outputId": "8a12e3dd-26e4-476f-dd51-8ceb94b603f4"
      },
      "source": [
        "stat , p = shapiro(sales_growth)\n",
        "print('stat=%.3f , p=%.3f\\n' % (stat,p))\n",
        "if p > 0.05:\n",
        "  print('Dsitribuição Gaussiana')\n",
        "else:\n",
        "  print('Distribuição não-Gaussiana')"
      ],
      "execution_count": null,
      "outputs": [
        {
          "output_type": "stream",
          "text": [
            "stat=0.662 , p=0.000\n",
            "\n",
            "Distribuição não-Gaussiana\n"
          ],
          "name": "stdout"
        }
      ]
    },
    {
      "cell_type": "markdown",
      "metadata": {
        "id": "FZTxZl47hmoj"
      },
      "source": [
        "## Alternativas\n",
        "\n",
        "Antes de relacionar o conjunto 'sales' e 'comp_prices' e tentar criar um modelo. Mesmo considerando alguns tratamentos no conjunto de dados como realizado abaixo, o melhor seria um modelo de elasticidade de preço(o quão sensitivo é a demanda, com a mudança de preços), ao invés de previsão de demanda(já que esta leva em consideração mais fatores que somente preço).\n",
        "<br><br>\n",
        "Como o presente conjunto de dados é estacionário e 'Não-Gaussiano', poderia-se optar por:\n",
        "  * 'Limpar' valores nulos, extremos\n",
        "  * Checar presença de sobreposição de outro processo que gera distribuição bimodal ou multimodal.\n",
        "  * Um modelo de demanda por 'Suavização Exponencial Simples(SES)'\n",
        "\n",
        "  Ainda assim poderia-se incorrer em imprecisão e sobre-ajuste('overfitting'). \n",
        "\n",
        "\n"
      ]
    },
    {
      "cell_type": "markdown",
      "metadata": {
        "id": "mtaZDo8Tzm9l"
      },
      "source": [
        "Como o conjunto não apresenta valores nulos, nem valores '0'."
      ]
    },
    {
      "cell_type": "code",
      "metadata": {
        "id": "qDD3wAPH0Hhe"
      },
      "source": [
        "sales = '/content/drive/MyDrive/data_B2W/sales.csv'\n",
        "#df = pd.read_csv(url)\n",
        "\n",
        "df_sales = pd.read_csv(sales)"
      ],
      "execution_count": 4,
      "outputs": []
    },
    {
      "cell_type": "code",
      "metadata": {
        "colab": {
          "base_uri": "https://localhost:8080/"
        },
        "id": "A6soHlBiz6-p",
        "outputId": "061927e5-d477-4be3-d0bc-005839c561ba"
      },
      "source": [
        "df_sales.isnull().values.any()"
      ],
      "execution_count": null,
      "outputs": [
        {
          "output_type": "execute_result",
          "data": {
            "text/plain": [
              "False"
            ]
          },
          "metadata": {
            "tags": []
          },
          "execution_count": 42
        }
      ]
    },
    {
      "cell_type": "code",
      "metadata": {
        "colab": {
          "base_uri": "https://localhost:8080/"
        },
        "id": "j29rxd8suzml",
        "outputId": "e98ae578-5b19-44b8-ebab-ac9286a6efcf"
      },
      "source": [
        "df_sales.isnull().sum()"
      ],
      "execution_count": null,
      "outputs": [
        {
          "output_type": "execute_result",
          "data": {
            "text/plain": [
              "PROD_ID       0\n",
              "DATE_ORDER    0\n",
              "QTY_ORDER     0\n",
              "REVENUE       0\n",
              "dtype: int64"
            ]
          },
          "metadata": {
            "tags": []
          },
          "execution_count": 43
        }
      ]
    },
    {
      "cell_type": "markdown",
      "metadata": {
        "id": "qDCWWf500Sj1"
      },
      "source": [
        "Podemos filtrar valores mais discrepantes(gráfico QQ Plot), afastados nas pontas da linha referência(vermelha)"
      ]
    },
    {
      "cell_type": "code",
      "metadata": {
        "id": "2lbfoLB00roS"
      },
      "source": [
        "sales = '/content/drive/MyDrive/data_B2W/sales.csv'\n",
        "#df = pd.read_csv(url)\n",
        "\n",
        "df_sales = pd.read_csv(sales)\n",
        "df_sales['DATE_ORDER'] = pd.to_datetime(df_sales['DATE_ORDER'])\n",
        "df_sales.set_index('DATE_ORDER',inplace=True)\n",
        "df_sales[\"REVENUE\"] = pd.to_numeric(df_sales[\"REVENUE\"], downcast=\"float\")\n",
        "df_sales[\"QTY_ORDER\"] = pd.to_numeric(df_sales[\"REVENUE\"], downcast=\"integer\")\n",
        "#df_sales[(df_sales['DATE_ORDER'].dt.strftime('%Y-%m-%d') >= '2015-01-01') & (df_sales['DATE_ORDER'].dt.strftime('%Y-%m-%d') <= '2015-10-30')]\n",
        "#df_sales.groupby('DATE_ORDER').REVENUE.sum()\n",
        "\n"
      ],
      "execution_count": 242,
      "outputs": []
    },
    {
      "cell_type": "markdown",
      "metadata": {
        "id": "dP0qAwU_ZO_X"
      },
      "source": [
        "### Limpeza"
      ]
    },
    {
      "cell_type": "markdown",
      "metadata": {
        "id": "mxfCIlQIAazL"
      },
      "source": [
        "Pode levar a possível 'overfitting'."
      ]
    },
    {
      "cell_type": "code",
      "metadata": {
        "colab": {
          "base_uri": "https://localhost:8080/",
          "height": 301
        },
        "id": "E9sPleJYaWsn",
        "outputId": "fe8258b0-1214-4649-b88b-ea389cd50b6d"
      },
      "source": [
        "rev_graph = df_sales.query(\"REVENUE > 794.320007\")\n",
        "sns.lineplot(data=rev_graph, x=\"DATE_ORDER\", y=\"REVENUE\")"
      ],
      "execution_count": 243,
      "outputs": [
        {
          "output_type": "execute_result",
          "data": {
            "text/plain": [
              "<matplotlib.axes._subplots.AxesSubplot at 0x7f896ffa26d0>"
            ]
          },
          "metadata": {
            "tags": []
          },
          "execution_count": 243
        },
        {
          "output_type": "display_data",
          "data": {
            "image/png": "[encoded data removed]",
            "text/plain": [
              "<Figure size 432x288 with 1 Axes>"
            ]
          },
          "metadata": {
            "tags": [],
            "needs_background": "light"
          }
        }
      ]
    },
    {
      "cell_type": "code",
      "metadata": {
        "colab": {
          "base_uri": "https://localhost:8080/",
          "height": 297
        },
        "id": "t_WaJhTub33j",
        "outputId": "76262f0f-e309-4d63-ca64-6ef3eb5053a2"
      },
      "source": [
        "sales_norm = rev_graph['REVENUE']\n",
        "stats.probplot(sales_norm, dist=\"norm\", plot=pylab)\n",
        "pylab.show()"
      ],
      "execution_count": 244,
      "outputs": [
        {
          "output_type": "display_data",
          "data": {
            "image/png": "[encoded data removed]",
            "text/plain": [
              "<Figure size 432x288 with 1 Axes>"
            ]
          },
          "metadata": {
            "tags": [],
            "needs_background": "light"
          }
        }
      ]
    },
    {
      "cell_type": "code",
      "metadata": {
        "colab": {
          "base_uri": "https://localhost:8080/",
          "height": 544
        },
        "id": "zKOlGElFf33K",
        "outputId": "67386bb6-2134-4241-f210-7dbf5bff55a0"
      },
      "source": [
        "sns.lmplot(x = \"REVENUE\", y = \"QTY_ORDER\", \n",
        "data = rev_graph, size = 7)"
      ],
      "execution_count": 245,
      "outputs": [
        {
          "output_type": "execute_result",
          "data": {
            "text/plain": [
              "<seaborn.axisgrid.FacetGrid at 0x7f896ff78750>"
            ]
          },
          "metadata": {
            "tags": []
          },
          "execution_count": 245
        },
        {
          "output_type": "display_data",
          "data": {
            "image/png": "[encoded data removed]",
            "text/plain": [
              "<Figure size 504x504 with 1 Axes>"
            ]
          },
          "metadata": {
            "tags": [],
            "needs_background": "light"
          }
        }
      ]
    },
    {
      "cell_type": "code",
      "metadata": {
        "colab": {
          "base_uri": "https://localhost:8080/",
          "height": 301
        },
        "id": "t4uNFmsKOeZP",
        "outputId": "b69b1f4b-b6e3-468d-8919-a2ff23b83951"
      },
      "source": [
        "rev_graph2 = rev_graph.query(\"REVENUE < 149900.0\")\n",
        "sns.lineplot(data=rev_graph2, x=\"DATE_ORDER\", y=\"REVENUE\")"
      ],
      "execution_count": 246,
      "outputs": [
        {
          "output_type": "execute_result",
          "data": {
            "text/plain": [
              "<matplotlib.axes._subplots.AxesSubplot at 0x7f896ff244d0>"
            ]
          },
          "metadata": {
            "tags": []
          },
          "execution_count": 246
        },
        {
          "output_type": "display_data",
          "data": {
            "image/png": "[encoded data removed]",
            "text/plain": [
              "<Figure size 432x288 with 1 Axes>"
            ]
          },
          "metadata": {
            "tags": [],
            "needs_background": "light"
          }
        }
      ]
    },
    {
      "cell_type": "code",
      "metadata": {
        "colab": {
          "base_uri": "https://localhost:8080/",
          "height": 616
        },
        "id": "OURumMf698ds",
        "outputId": "2becac99-f728-4596-e2e5-959586a186e4"
      },
      "source": [
        "sns.lmplot(x = \"REVENUE\", y = \"QTY_ORDER\", data = rev_graph2, size = 8)"
      ],
      "execution_count": 248,
      "outputs": [
        {
          "output_type": "execute_result",
          "data": {
            "text/plain": [
              "<seaborn.axisgrid.FacetGrid at 0x7f896fef0dd0>"
            ]
          },
          "metadata": {
            "tags": []
          },
          "execution_count": 248
        },
        {
          "output_type": "display_data",
          "data": {
            "image/png": "[encoded data removed]",
            "text/plain": [
              "<Figure size 576x576 with 1 Axes>"
            ]
          },
          "metadata": {
            "tags": [],
            "needs_background": "light"
          }
        }
      ]
    },
    {
      "cell_type": "markdown",
      "metadata": {
        "id": "tGTLIpw4Arih"
      },
      "source": [
        "## Competidores "
      ]
    },
    {
      "cell_type": "code",
      "metadata": {
        "id": "OpnXacUaGgHw"
      },
      "source": [
        "sales = '/content/drive/MyDrive/data_B2W/sales.csv'\n",
        "#df = pd.read_csv(url)\n",
        "\n",
        "df_sales = pd.read_csv(sales)\n",
        "df_sales['DATE_ORDER'] = pd.to_datetime(df_sales['DATE_ORDER'])"
      ],
      "execution_count": 161,
      "outputs": []
    },
    {
      "cell_type": "code",
      "metadata": {
        "id": "oUr49xIEJOL0"
      },
      "source": [
        "comp = '/content/drive/MyDrive/data_B2W/comp_prices.csv'\n",
        "#df = pd.read_csv(url)\n",
        "\n",
        "df_comp = pd.read_csv(comp)"
      ],
      "execution_count": 162,
      "outputs": []
    },
    {
      "cell_type": "markdown",
      "metadata": {
        "id": "GYLfU5kEsyeM"
      },
      "source": [
        "### Preço médio por produto e tipo de pagamento"
      ]
    },
    {
      "cell_type": "code",
      "metadata": {
        "id": "qNugpGa6lNM4"
      },
      "source": [
        "comp_group = df_comp.groupby(['PROD_ID', 'PAY_TYPE'])\n",
        "#comp_group.groups.keys()"
      ],
      "execution_count": 60,
      "outputs": []
    },
    {
      "cell_type": "markdown",
      "metadata": {
        "id": "LfIyPRrw3C84"
      },
      "source": [
        "Preço médio dos competidores por produto e tipo de pagamento."
      ]
    },
    {
      "cell_type": "code",
      "metadata": {
        "colab": {
          "base_uri": "https://localhost:8080/"
        },
        "id": "23m0y4wKoA9W",
        "outputId": "4443cbf0-74c6-4c4f-e949-0099b2a61630"
      },
      "source": [
        "agg_comp = comp_group['COMPETITOR_PRICE'].mean()\n",
        "agg_comp"
      ],
      "execution_count": 61,
      "outputs": [
        {
          "output_type": "execute_result",
          "data": {
            "text/plain": [
              "PROD_ID  PAY_TYPE\n",
              "P1       1           1957.185088\n",
              "         2           1857.754339\n",
              "P2       1            833.078963\n",
              "         2            806.673032\n",
              "P3       1           1438.984799\n",
              "         2           1404.235583\n",
              "P4       1            644.202994\n",
              "         2            641.849976\n",
              "P5       1           1149.409673\n",
              "         2           1135.170116\n",
              "P6       1           1964.836399\n",
              "         2           1938.351220\n",
              "P7       1            913.023601\n",
              "         2            873.836675\n",
              "P8       1            511.403486\n",
              "         2            507.614784\n",
              "P9       1            543.339024\n",
              "         2            524.027908\n",
              "Name: COMPETITOR_PRICE, dtype: float64"
            ]
          },
          "metadata": {
            "tags": []
          },
          "execution_count": 61
        }
      ]
    },
    {
      "cell_type": "markdown",
      "metadata": {
        "id": "VJDUKA8NxyBG"
      },
      "source": [
        "A média de preço de cada produto por tipo de pagamento. O tipo de pagamento 1(deferred payment) apresenta preço médio mais elevado em todos os produtos."
      ]
    },
    {
      "cell_type": "code",
      "metadata": {
        "colab": {
          "base_uri": "https://localhost:8080/",
          "height": 280
        },
        "id": "JfvDwYE_qJ-q",
        "outputId": "53b3c926-e2f9-49f6-da0e-10207c3bd989"
      },
      "source": [
        "ax = sns.distplot(agg_comp)"
      ],
      "execution_count": 41,
      "outputs": [
        {
          "output_type": "display_data",
          "data": {
            "image/png": "[encoded data removed]",
            "text/plain": [
              "<Figure size 432x288 with 1 Axes>"
            ]
          },
          "metadata": {
            "tags": [],
            "needs_background": "light"
          }
        }
      ]
    },
    {
      "cell_type": "markdown",
      "metadata": {
        "id": "bLqGRmZNstIP"
      },
      "source": [
        "### Receita média por produto"
      ]
    },
    {
      "cell_type": "code",
      "metadata": {
        "colab": {
          "base_uri": "https://localhost:8080/"
        },
        "id": "COp0RxNug1JZ",
        "outputId": "331ab155-5076-4b1a-d426-332d9cc6253c"
      },
      "source": [
        "sales_group = df_sales.groupby('PROD_ID')\n",
        "#sales_group.groups.keys()"
      ],
      "execution_count": 100,
      "outputs": [
        {
          "output_type": "execute_result",
          "data": {
            "text/plain": [
              "<pandas.core.groupby.generic.DataFrameGroupBy object at 0x7fb2dcc466d0>"
            ]
          },
          "metadata": {
            "tags": []
          },
          "execution_count": 100
        }
      ]
    },
    {
      "cell_type": "markdown",
      "metadata": {
        "id": "bvShiZt_25gw"
      },
      "source": [
        "Receita média dos vendedores por produto."
      ]
    },
    {
      "cell_type": "code",
      "metadata": {
        "colab": {
          "base_uri": "https://localhost:8080/"
        },
        "id": "OXgWxOB5pq_8",
        "outputId": "f1b64e3d-8595-4748-cd4d-0e66c0b31ebd"
      },
      "source": [
        "agg_sales = sales_group['REVENUE'].mean()\n",
        "agg_sales"
      ],
      "execution_count": 101,
      "outputs": [
        {
          "output_type": "execute_result",
          "data": {
            "text/plain": [
              "PROD_ID\n",
              "P1    1470.079868\n",
              "P2     726.308993\n",
              "P3    1281.190048\n",
              "P4     577.012720\n",
              "P5     804.431663\n",
              "P6    1725.870236\n",
              "P7     822.920101\n",
              "P8     436.698291\n",
              "P9     432.906599\n",
              "Name: REVENUE, dtype: float64"
            ]
          },
          "metadata": {
            "tags": []
          },
          "execution_count": 101
        }
      ]
    },
    {
      "cell_type": "code",
      "metadata": {
        "colab": {
          "base_uri": "https://localhost:8080/",
          "height": 278
        },
        "id": "oQ6QuwKjqcdU",
        "outputId": "99f06661-313d-4009-a840-4d5bfddb72df"
      },
      "source": [
        "ax = sns.distplot(agg_sales)"
      ],
      "execution_count": 72,
      "outputs": [
        {
          "output_type": "display_data",
          "data": {
            "image/png": "[encoded data removed]",
            "text/plain": [
              "<Figure size 432x288 with 1 Axes>"
            ]
          },
          "metadata": {
            "tags": [],
            "needs_background": "light"
          }
        }
      ]
    },
    {
      "cell_type": "markdown",
      "metadata": {
        "id": "OLTKkKYP0hMV"
      },
      "source": [
        "Comparando as duas médias acima, constata-se não só maiores preços praticados pelos concorrentes em todos os produtos como também um possível aumento nos preços dos produtos dos vendedores(marketplace), para aumentar receita, nos produtos P1, P5, P6, P3 e P9, principalmente no tipo de pagamento 1.\n",
        "<br>Quanto menor a diferença maior a receita em todos os produtos."
      ]
    },
    {
      "cell_type": "code",
      "metadata": {
        "colab": {
          "base_uri": "https://localhost:8080/"
        },
        "id": "6t6g7iap1HxY",
        "outputId": "48a93e43-3378-45c3-bd6c-3ebbceb9097a"
      },
      "source": [
        "diff = agg_comp - agg_sales\n",
        "diff"
      ],
      "execution_count": 74,
      "outputs": [
        {
          "output_type": "execute_result",
          "data": {
            "text/plain": [
              "PROD_ID  PAY_TYPE\n",
              "P1       1           487.105220\n",
              "         2           387.674471\n",
              "P2       1           106.769970\n",
              "         2            80.364039\n",
              "P3       1           157.794750\n",
              "         2           123.045535\n",
              "P4       1            67.190274\n",
              "         2            64.837256\n",
              "P5       1           344.978010\n",
              "         2           330.738453\n",
              "P6       1           238.966163\n",
              "         2           212.480983\n",
              "P7       1            90.103499\n",
              "         2            50.916574\n",
              "P8       1            74.705196\n",
              "         2            70.916494\n",
              "P9       1           110.432425\n",
              "         2            91.121309\n",
              "dtype: float64"
            ]
          },
          "metadata": {
            "tags": []
          },
          "execution_count": 74
        }
      ]
    },
    {
      "cell_type": "markdown",
      "metadata": {
        "id": "5AlcQY2DBPR0"
      },
      "source": [
        "## Modelo\n"
      ]
    },
    {
      "cell_type": "markdown",
      "metadata": {
        "id": "0WGODstCsMAh"
      },
      "source": [
        "Análise dos dois conjuntos 'sales' e 'comp_prices'\n",
        "\n",
        "\n",
        "\n",
        "\n"
      ]
    },
    {
      "cell_type": "code",
      "metadata": {
        "id": "Bsu3PWT23MXO"
      },
      "source": [
        "sales = '/content/drive/MyDrive/data_B2W/sales.csv'\n",
        "\n",
        "df_sales = pd.read_csv(sales)\n",
        "df_sales['DATE_ORDER'] = pd.to_datetime(df_sales['DATE_ORDER'])\n",
        "#df_sales['PROD_ID'] = df_sales.index\n",
        "\n",
        "comp = '/content/drive/MyDrive/data_B2W/comp_prices.csv'\n",
        "\n",
        "df_comp = pd.read_csv(comp)\n",
        "#df_comp['PROD_ID'] = df_comp.index"
      ],
      "execution_count": 78,
      "outputs": []
    },
    {
      "cell_type": "code",
      "metadata": {
        "id": "wY8bzr7EHUR2"
      },
      "source": [
        "sales_comp = df_comp.merge(df_sales, on='PROD_ID', how='left', left_index=True, right_index=True)"
      ],
      "execution_count": 79,
      "outputs": []
    },
    {
      "cell_type": "code",
      "metadata": {
        "colab": {
          "base_uri": "https://localhost:8080/",
          "height": 171
        },
        "id": "sJAih_Nv2yll",
        "outputId": "7c5a0303-7e4a-43ee-8b7a-0d92fecf5ceb"
      },
      "source": [
        "sales_comp.head(4)"
      ],
      "execution_count": 5,
      "outputs": [
        {
          "output_type": "execute_result",
          "data": {
            "text/html": [
              "<div>\n",
              "<style scoped>\n",
              "    .dataframe tbody tr th:only-of-type {\n",
              "        vertical-align: middle;\n",
              "    }\n",
              "\n",
              "    .dataframe tbody tr th {\n",
              "        vertical-align: top;\n",
              "    }\n",
              "\n",
              "    .dataframe thead th {\n",
              "        text-align: right;\n",
              "    }\n",
              "</style>\n",
              "<table border=\"1\" class=\"dataframe\">\n",
              "  <thead>\n",
              "    <tr style=\"text-align: right;\">\n",
              "      <th></th>\n",
              "      <th>PROD_ID</th>\n",
              "      <th>DATE_EXTRACTION</th>\n",
              "      <th>COMPETITOR</th>\n",
              "      <th>COMPETITOR_PRICE</th>\n",
              "      <th>PAY_TYPE</th>\n",
              "      <th>DATE_ORDER</th>\n",
              "      <th>QTY_ORDER</th>\n",
              "      <th>REVENUE</th>\n",
              "    </tr>\n",
              "  </thead>\n",
              "  <tbody>\n",
              "    <tr>\n",
              "      <th>0</th>\n",
              "      <td>P6</td>\n",
              "      <td>2015-01-30 08:11:38</td>\n",
              "      <td>C3</td>\n",
              "      <td>1898.00</td>\n",
              "      <td>1</td>\n",
              "      <td>2015-08-02</td>\n",
              "      <td>1.0</td>\n",
              "      <td>1808.99</td>\n",
              "    </tr>\n",
              "    <tr>\n",
              "      <th>1</th>\n",
              "      <td>P6</td>\n",
              "      <td>2015-01-30 08:11:38</td>\n",
              "      <td>C1</td>\n",
              "      <td>1898.00</td>\n",
              "      <td>1</td>\n",
              "      <td>2015-08-17</td>\n",
              "      <td>1.0</td>\n",
              "      <td>1674.00</td>\n",
              "    </tr>\n",
              "    <tr>\n",
              "      <th>2</th>\n",
              "      <td>P6</td>\n",
              "      <td>2015-01-30 08:11:38</td>\n",
              "      <td>C6</td>\n",
              "      <td>1999.90</td>\n",
              "      <td>1</td>\n",
              "      <td>2015-08-17</td>\n",
              "      <td>1.0</td>\n",
              "      <td>1673.95</td>\n",
              "    </tr>\n",
              "    <tr>\n",
              "      <th>3</th>\n",
              "      <td>P6</td>\n",
              "      <td>2015-01-31 20:10:14</td>\n",
              "      <td>C2</td>\n",
              "      <td>1894.88</td>\n",
              "      <td>2</td>\n",
              "      <td>2015-08-11</td>\n",
              "      <td>1.0</td>\n",
              "      <td>1674.00</td>\n",
              "    </tr>\n",
              "  </tbody>\n",
              "</table>\n",
              "</div>"
            ],
            "text/plain": [
              "  PROD_ID      DATE_EXTRACTION COMPETITOR  ...  DATE_ORDER  QTY_ORDER  REVENUE\n",
              "0      P6  2015-01-30 08:11:38         C3  ...  2015-08-02        1.0  1808.99\n",
              "1      P6  2015-01-30 08:11:38         C1  ...  2015-08-17        1.0  1674.00\n",
              "2      P6  2015-01-30 08:11:38         C6  ...  2015-08-17        1.0  1673.95\n",
              "3      P6  2015-01-31 20:10:14         C2  ...  2015-08-11        1.0  1674.00\n",
              "\n",
              "[4 rows x 8 columns]"
            ]
          },
          "metadata": {
            "tags": []
          },
          "execution_count": 5
        }
      ]
    },
    {
      "cell_type": "code",
      "metadata": {
        "id": "3SZsDWDf6ZCI"
      },
      "source": [
        "df_group = sales_comp.groupby(['PROD_ID', 'PAY_TYPE', 'COMPETITOR'])"
      ],
      "execution_count": 73,
      "outputs": []
    },
    {
      "cell_type": "markdown",
      "metadata": {
        "id": "9U1kmHmY2INS"
      },
      "source": [
        "Comparação entre produto, tipo de pagamento, preço do competidor, receita e quantidade."
      ]
    },
    {
      "cell_type": "code",
      "metadata": {
        "colab": {
          "base_uri": "https://localhost:8080/",
          "height": 1000
        },
        "id": "sWyov3Cp6Yun",
        "outputId": "bb01f1cc-7c12-4302-c44d-d8bc1e494971"
      },
      "source": [
        "agg_price = df_group['COMPETITOR_PRICE', 'REVENUE', 'QTY_ORDER'].mean()\n",
        "pd.set_option('max_rows', 99999)\n",
        "agg_price"
      ],
      "execution_count": 77,
      "outputs": [
        {
          "output_type": "execute_result",
          "data": {
            "text/html": [
              "<div>\n",
              "<style scoped>\n",
              "    .dataframe tbody tr th:only-of-type {\n",
              "        vertical-align: middle;\n",
              "    }\n",
              "\n",
              "    .dataframe tbody tr th {\n",
              "        vertical-align: top;\n",
              "    }\n",
              "\n",
              "    .dataframe thead th {\n",
              "        text-align: right;\n",
              "    }\n",
              "</style>\n",
              "<table border=\"1\" class=\"dataframe\">\n",
              "  <thead>\n",
              "    <tr style=\"text-align: right;\">\n",
              "      <th></th>\n",
              "      <th></th>\n",
              "      <th></th>\n",
              "      <th>COMPETITOR_PRICE</th>\n",
              "      <th>REVENUE</th>\n",
              "      <th>QTY_ORDER</th>\n",
              "    </tr>\n",
              "    <tr>\n",
              "      <th>PROD_ID</th>\n",
              "      <th>PAY_TYPE</th>\n",
              "      <th>COMPETITOR</th>\n",
              "      <th></th>\n",
              "      <th></th>\n",
              "      <th></th>\n",
              "    </tr>\n",
              "  </thead>\n",
              "  <tbody>\n",
              "    <tr>\n",
              "      <th rowspan=\"10\" valign=\"top\">P1</th>\n",
              "      <th rowspan=\"5\" valign=\"top\">1</th>\n",
              "      <th>C1</th>\n",
              "      <td>1923.770339</td>\n",
              "      <td>876.745483</td>\n",
              "      <td>1.075718</td>\n",
              "    </tr>\n",
              "    <tr>\n",
              "      <th>C2</th>\n",
              "      <td>1974.177813</td>\n",
              "      <td>898.389943</td>\n",
              "      <td>1.096591</td>\n",
              "    </tr>\n",
              "    <tr>\n",
              "      <th>C3</th>\n",
              "      <td>2226.752121</td>\n",
              "      <td>871.013182</td>\n",
              "      <td>1.070707</td>\n",
              "    </tr>\n",
              "    <tr>\n",
              "      <th>C5</th>\n",
              "      <td>1914.518768</td>\n",
              "      <td>859.192689</td>\n",
              "      <td>1.053221</td>\n",
              "    </tr>\n",
              "    <tr>\n",
              "      <th>C6</th>\n",
              "      <td>1496.508824</td>\n",
              "      <td>858.161912</td>\n",
              "      <td>1.058824</td>\n",
              "    </tr>\n",
              "    <tr>\n",
              "      <th rowspan=\"5\" valign=\"top\">2</th>\n",
              "      <th>C1</th>\n",
              "      <td>1819.925209</td>\n",
              "      <td>870.848953</td>\n",
              "      <td>1.062827</td>\n",
              "    </tr>\n",
              "    <tr>\n",
              "      <th>C2</th>\n",
              "      <td>1925.133390</td>\n",
              "      <td>851.611054</td>\n",
              "      <td>1.045584</td>\n",
              "    </tr>\n",
              "    <tr>\n",
              "      <th>C3</th>\n",
              "      <td>2048.249545</td>\n",
              "      <td>866.528737</td>\n",
              "      <td>1.060606</td>\n",
              "    </tr>\n",
              "    <tr>\n",
              "      <th>C5</th>\n",
              "      <td>1794.965927</td>\n",
              "      <td>898.147949</td>\n",
              "      <td>1.101124</td>\n",
              "    </tr>\n",
              "    <tr>\n",
              "      <th>C6</th>\n",
              "      <td>1496.508824</td>\n",
              "      <td>846.327059</td>\n",
              "      <td>1.029412</td>\n",
              "    </tr>\n",
              "    <tr>\n",
              "      <th rowspan=\"12\" valign=\"top\">P2</th>\n",
              "      <th rowspan=\"6\" valign=\"top\">1</th>\n",
              "      <th>C1</th>\n",
              "      <td>852.174403</td>\n",
              "      <td>879.626043</td>\n",
              "      <td>1.081996</td>\n",
              "    </tr>\n",
              "    <tr>\n",
              "      <th>C2</th>\n",
              "      <td>849.995869</td>\n",
              "      <td>862.002057</td>\n",
              "      <td>1.065603</td>\n",
              "    </tr>\n",
              "    <tr>\n",
              "      <th>C3</th>\n",
              "      <td>771.000469</td>\n",
              "      <td>870.889751</td>\n",
              "      <td>1.070813</td>\n",
              "    </tr>\n",
              "    <tr>\n",
              "      <th>C4</th>\n",
              "      <td>848.236878</td>\n",
              "      <td>873.568337</td>\n",
              "      <td>1.073469</td>\n",
              "    </tr>\n",
              "    <tr>\n",
              "      <th>C5</th>\n",
              "      <td>831.793522</td>\n",
              "      <td>901.444251</td>\n",
              "      <td>1.105263</td>\n",
              "    </tr>\n",
              "    <tr>\n",
              "      <th>C6</th>\n",
              "      <td>863.711446</td>\n",
              "      <td>869.582485</td>\n",
              "      <td>1.072301</td>\n",
              "    </tr>\n",
              "    <tr>\n",
              "      <th rowspan=\"6\" valign=\"top\">2</th>\n",
              "      <th>C1</th>\n",
              "      <td>812.700178</td>\n",
              "      <td>875.460036</td>\n",
              "      <td>1.076649</td>\n",
              "    </tr>\n",
              "    <tr>\n",
              "      <th>C2</th>\n",
              "      <td>822.898777</td>\n",
              "      <td>889.915851</td>\n",
              "      <td>1.095745</td>\n",
              "    </tr>\n",
              "    <tr>\n",
              "      <th>C3</th>\n",
              "      <td>749.668247</td>\n",
              "      <td>876.242864</td>\n",
              "      <td>1.080460</td>\n",
              "    </tr>\n",
              "    <tr>\n",
              "      <th>C4</th>\n",
              "      <td>814.737763</td>\n",
              "      <td>892.635506</td>\n",
              "      <td>1.108274</td>\n",
              "    </tr>\n",
              "    <tr>\n",
              "      <th>C5</th>\n",
              "      <td>737.671336</td>\n",
              "      <td>855.985628</td>\n",
              "      <td>1.048583</td>\n",
              "    </tr>\n",
              "    <tr>\n",
              "      <th>C6</th>\n",
              "      <td>863.888624</td>\n",
              "      <td>868.610459</td>\n",
              "      <td>1.068298</td>\n",
              "    </tr>\n",
              "    <tr>\n",
              "      <th rowspan=\"12\" valign=\"top\">P3</th>\n",
              "      <th rowspan=\"6\" valign=\"top\">1</th>\n",
              "      <th>C1</th>\n",
              "      <td>1346.443167</td>\n",
              "      <td>860.735971</td>\n",
              "      <td>1.089806</td>\n",
              "    </tr>\n",
              "    <tr>\n",
              "      <th>C2</th>\n",
              "      <td>1341.941366</td>\n",
              "      <td>871.805526</td>\n",
              "      <td>1.100363</td>\n",
              "    </tr>\n",
              "    <tr>\n",
              "      <th>C3</th>\n",
              "      <td>1492.536077</td>\n",
              "      <td>821.190742</td>\n",
              "      <td>1.038278</td>\n",
              "    </tr>\n",
              "    <tr>\n",
              "      <th>C4</th>\n",
              "      <td>1702.369469</td>\n",
              "      <td>840.519406</td>\n",
              "      <td>1.062500</td>\n",
              "    </tr>\n",
              "    <tr>\n",
              "      <th>C5</th>\n",
              "      <td>1471.997902</td>\n",
              "      <td>819.113357</td>\n",
              "      <td>1.041958</td>\n",
              "    </tr>\n",
              "    <tr>\n",
              "      <th>C6</th>\n",
              "      <td>1552.353693</td>\n",
              "      <td>852.457638</td>\n",
              "      <td>1.077889</td>\n",
              "    </tr>\n",
              "    <tr>\n",
              "      <th rowspan=\"6\" valign=\"top\">2</th>\n",
              "      <th>C1</th>\n",
              "      <td>1309.980827</td>\n",
              "      <td>862.883175</td>\n",
              "      <td>1.093674</td>\n",
              "    </tr>\n",
              "    <tr>\n",
              "      <th>C2</th>\n",
              "      <td>1329.121891</td>\n",
              "      <td>830.993079</td>\n",
              "      <td>1.053333</td>\n",
              "    </tr>\n",
              "    <tr>\n",
              "      <th>C3</th>\n",
              "      <td>1446.021031</td>\n",
              "      <td>862.942302</td>\n",
              "      <td>1.093525</td>\n",
              "    </tr>\n",
              "    <tr>\n",
              "      <th>C4</th>\n",
              "      <td>1641.930094</td>\n",
              "      <td>854.918589</td>\n",
              "      <td>1.084639</td>\n",
              "    </tr>\n",
              "    <tr>\n",
              "      <th>C5</th>\n",
              "      <td>1314.584406</td>\n",
              "      <td>829.465524</td>\n",
              "      <td>1.069930</td>\n",
              "    </tr>\n",
              "    <tr>\n",
              "      <th>C6</th>\n",
              "      <td>1552.893627</td>\n",
              "      <td>859.498463</td>\n",
              "      <td>1.088161</td>\n",
              "    </tr>\n",
              "    <tr>\n",
              "      <th rowspan=\"6\" valign=\"top\">P4</th>\n",
              "      <th rowspan=\"3\" valign=\"top\">1</th>\n",
              "      <th>C4</th>\n",
              "      <td>604.833204</td>\n",
              "      <td>864.133959</td>\n",
              "      <td>1.099448</td>\n",
              "    </tr>\n",
              "    <tr>\n",
              "      <th>C5</th>\n",
              "      <td>569.000000</td>\n",
              "      <td>857.012500</td>\n",
              "      <td>1.125000</td>\n",
              "    </tr>\n",
              "    <tr>\n",
              "      <th>C6</th>\n",
              "      <td>718.962925</td>\n",
              "      <td>836.545136</td>\n",
              "      <td>1.064626</td>\n",
              "    </tr>\n",
              "    <tr>\n",
              "      <th rowspan=\"3\" valign=\"top\">2</th>\n",
              "      <th>C4</th>\n",
              "      <td>602.188266</td>\n",
              "      <td>855.726181</td>\n",
              "      <td>1.088561</td>\n",
              "    </tr>\n",
              "    <tr>\n",
              "      <th>C5</th>\n",
              "      <td>495.030000</td>\n",
              "      <td>799.000000</td>\n",
              "      <td>1.000000</td>\n",
              "    </tr>\n",
              "    <tr>\n",
              "      <th>C6</th>\n",
              "      <td>718.962925</td>\n",
              "      <td>887.714660</td>\n",
              "      <td>1.125850</td>\n",
              "    </tr>\n",
              "    <tr>\n",
              "      <th rowspan=\"6\" valign=\"top\">P5</th>\n",
              "      <th rowspan=\"3\" valign=\"top\">1</th>\n",
              "      <th>C1</th>\n",
              "      <td>1158.593694</td>\n",
              "      <td>907.831943</td>\n",
              "      <td>1.146497</td>\n",
              "    </tr>\n",
              "    <tr>\n",
              "      <th>C2</th>\n",
              "      <td>1156.689119</td>\n",
              "      <td>903.779465</td>\n",
              "      <td>1.144654</td>\n",
              "    </tr>\n",
              "    <tr>\n",
              "      <th>C3</th>\n",
              "      <td>1132.958259</td>\n",
              "      <td>893.207215</td>\n",
              "      <td>1.129747</td>\n",
              "    </tr>\n",
              "    <tr>\n",
              "      <th rowspan=\"3\" valign=\"top\">2</th>\n",
              "      <th>C1</th>\n",
              "      <td>1148.972102</td>\n",
              "      <td>835.967930</td>\n",
              "      <td>1.054140</td>\n",
              "    </tr>\n",
              "    <tr>\n",
              "      <th>C2</th>\n",
              "      <td>1138.950346</td>\n",
              "      <td>844.713459</td>\n",
              "      <td>1.066038</td>\n",
              "    </tr>\n",
              "    <tr>\n",
              "      <th>C3</th>\n",
              "      <td>1117.651329</td>\n",
              "      <td>914.760886</td>\n",
              "      <td>1.151899</td>\n",
              "    </tr>\n",
              "    <tr>\n",
              "      <th rowspan=\"10\" valign=\"top\">P6</th>\n",
              "      <th rowspan=\"5\" valign=\"top\">1</th>\n",
              "      <th>C1</th>\n",
              "      <td>1901.759529</td>\n",
              "      <td>1190.826986</td>\n",
              "      <td>1.053394</td>\n",
              "    </tr>\n",
              "    <tr>\n",
              "      <th>C2</th>\n",
              "      <td>1924.683940</td>\n",
              "      <td>1169.506676</td>\n",
              "      <td>1.044818</td>\n",
              "    </tr>\n",
              "    <tr>\n",
              "      <th>C3</th>\n",
              "      <td>1887.772539</td>\n",
              "      <td>1163.528513</td>\n",
              "      <td>1.036011</td>\n",
              "    </tr>\n",
              "    <tr>\n",
              "      <th>C4</th>\n",
              "      <td>2007.682941</td>\n",
              "      <td>1191.054235</td>\n",
              "      <td>1.085714</td>\n",
              "    </tr>\n",
              "    <tr>\n",
              "      <th>C6</th>\n",
              "      <td>2150.953839</td>\n",
              "      <td>1221.376031</td>\n",
              "      <td>1.047983</td>\n",
              "    </tr>\n",
              "    <tr>\n",
              "      <th rowspan=\"5\" valign=\"top\">2</th>\n",
              "      <th>C1</th>\n",
              "      <td>1870.672081</td>\n",
              "      <td>1171.460398</td>\n",
              "      <td>1.043439</td>\n",
              "    </tr>\n",
              "    <tr>\n",
              "      <th>C2</th>\n",
              "      <td>1890.217582</td>\n",
              "      <td>1147.337983</td>\n",
              "      <td>1.034547</td>\n",
              "    </tr>\n",
              "    <tr>\n",
              "      <th>C3</th>\n",
              "      <td>1864.488006</td>\n",
              "      <td>1174.973813</td>\n",
              "      <td>1.048015</td>\n",
              "    </tr>\n",
              "    <tr>\n",
              "      <th>C4</th>\n",
              "      <td>1957.466908</td>\n",
              "      <td>1151.540941</td>\n",
              "      <td>1.053782</td>\n",
              "    </tr>\n",
              "    <tr>\n",
              "      <th>C6</th>\n",
              "      <td>2150.953839</td>\n",
              "      <td>1246.522126</td>\n",
              "      <td>1.059978</td>\n",
              "    </tr>\n",
              "    <tr>\n",
              "      <th rowspan=\"12\" valign=\"top\">P7</th>\n",
              "      <th rowspan=\"6\" valign=\"top\">1</th>\n",
              "      <th>C1</th>\n",
              "      <td>958.682238</td>\n",
              "      <td>747.159456</td>\n",
              "      <td>1.050403</td>\n",
              "    </tr>\n",
              "    <tr>\n",
              "      <th>C2</th>\n",
              "      <td>961.276327</td>\n",
              "      <td>780.591918</td>\n",
              "      <td>1.100000</td>\n",
              "    </tr>\n",
              "    <tr>\n",
              "      <th>C3</th>\n",
              "      <td>1000.701484</td>\n",
              "      <td>756.297737</td>\n",
              "      <td>1.064935</td>\n",
              "    </tr>\n",
              "    <tr>\n",
              "      <th>C4</th>\n",
              "      <td>846.747360</td>\n",
              "      <td>754.014453</td>\n",
              "      <td>1.062222</td>\n",
              "    </tr>\n",
              "    <tr>\n",
              "      <th>C5</th>\n",
              "      <td>955.703226</td>\n",
              "      <td>748.808439</td>\n",
              "      <td>1.055484</td>\n",
              "    </tr>\n",
              "    <tr>\n",
              "      <th>C6</th>\n",
              "      <td>797.835907</td>\n",
              "      <td>764.718230</td>\n",
              "      <td>1.084071</td>\n",
              "    </tr>\n",
              "    <tr>\n",
              "      <th rowspan=\"6\" valign=\"top\">2</th>\n",
              "      <th>C1</th>\n",
              "      <td>942.869939</td>\n",
              "      <td>784.274566</td>\n",
              "      <td>1.101010</td>\n",
              "    </tr>\n",
              "    <tr>\n",
              "      <th>C2</th>\n",
              "      <td>942.338650</td>\n",
              "      <td>763.563027</td>\n",
              "      <td>1.075665</td>\n",
              "    </tr>\n",
              "    <tr>\n",
              "      <th>C3</th>\n",
              "      <td>989.408476</td>\n",
              "      <td>779.482881</td>\n",
              "      <td>1.100372</td>\n",
              "    </tr>\n",
              "    <tr>\n",
              "      <th>C4</th>\n",
              "      <td>799.011290</td>\n",
              "      <td>759.695240</td>\n",
              "      <td>1.071174</td>\n",
              "    </tr>\n",
              "    <tr>\n",
              "      <th>C5</th>\n",
              "      <td>858.957713</td>\n",
              "      <td>771.525866</td>\n",
              "      <td>1.089147</td>\n",
              "    </tr>\n",
              "    <tr>\n",
              "      <th>C6</th>\n",
              "      <td>797.946408</td>\n",
              "      <td>782.871707</td>\n",
              "      <td>1.108647</td>\n",
              "    </tr>\n",
              "    <tr>\n",
              "      <th rowspan=\"12\" valign=\"top\">P8</th>\n",
              "      <th rowspan=\"6\" valign=\"top\">1</th>\n",
              "      <th>C1</th>\n",
              "      <td>512.053126</td>\n",
              "      <td>865.937289</td>\n",
              "      <td>1.078150</td>\n",
              "    </tr>\n",
              "    <tr>\n",
              "      <th>C2</th>\n",
              "      <td>508.653244</td>\n",
              "      <td>878.738038</td>\n",
              "      <td>1.096519</td>\n",
              "    </tr>\n",
              "    <tr>\n",
              "      <th>C3</th>\n",
              "      <td>510.616938</td>\n",
              "      <td>841.309203</td>\n",
              "      <td>1.046252</td>\n",
              "    </tr>\n",
              "    <tr>\n",
              "      <th>C4</th>\n",
              "      <td>485.368403</td>\n",
              "      <td>882.055116</td>\n",
              "      <td>1.097222</td>\n",
              "    </tr>\n",
              "    <tr>\n",
              "      <th>C5</th>\n",
              "      <td>609.571429</td>\n",
              "      <td>942.792857</td>\n",
              "      <td>1.142857</td>\n",
              "    </tr>\n",
              "    <tr>\n",
              "      <th>C6</th>\n",
              "      <td>532.940835</td>\n",
              "      <td>903.838070</td>\n",
              "      <td>1.125217</td>\n",
              "    </tr>\n",
              "    <tr>\n",
              "      <th rowspan=\"6\" valign=\"top\">2</th>\n",
              "      <th>C1</th>\n",
              "      <td>507.273099</td>\n",
              "      <td>852.938882</td>\n",
              "      <td>1.059105</td>\n",
              "    </tr>\n",
              "    <tr>\n",
              "      <th>C2</th>\n",
              "      <td>505.761395</td>\n",
              "      <td>858.218463</td>\n",
              "      <td>1.069731</td>\n",
              "    </tr>\n",
              "    <tr>\n",
              "      <th>C3</th>\n",
              "      <td>505.218738</td>\n",
              "      <td>879.266294</td>\n",
              "      <td>1.091054</td>\n",
              "    </tr>\n",
              "    <tr>\n",
              "      <th>C4</th>\n",
              "      <td>479.913063</td>\n",
              "      <td>868.349118</td>\n",
              "      <td>1.076566</td>\n",
              "    </tr>\n",
              "    <tr>\n",
              "      <th>C5</th>\n",
              "      <td>536.422857</td>\n",
              "      <td>835.552857</td>\n",
              "      <td>1.000000</td>\n",
              "    </tr>\n",
              "    <tr>\n",
              "      <th>C6</th>\n",
              "      <td>533.087073</td>\n",
              "      <td>856.420575</td>\n",
              "      <td>1.062718</td>\n",
              "    </tr>\n",
              "    <tr>\n",
              "      <th rowspan=\"12\" valign=\"top\">P9</th>\n",
              "      <th rowspan=\"6\" valign=\"top\">1</th>\n",
              "      <th>C1</th>\n",
              "      <td>511.546093</td>\n",
              "      <td>849.136396</td>\n",
              "      <td>1.055821</td>\n",
              "    </tr>\n",
              "    <tr>\n",
              "      <th>C2</th>\n",
              "      <td>508.815110</td>\n",
              "      <td>843.015000</td>\n",
              "      <td>1.055205</td>\n",
              "    </tr>\n",
              "    <tr>\n",
              "      <th>C3</th>\n",
              "      <td>510.290946</td>\n",
              "      <td>873.785513</td>\n",
              "      <td>1.088141</td>\n",
              "    </tr>\n",
              "    <tr>\n",
              "      <th>C4</th>\n",
              "      <td>499.000000</td>\n",
              "      <td>799.000000</td>\n",
              "      <td>1.000000</td>\n",
              "    </tr>\n",
              "    <tr>\n",
              "      <th>C5</th>\n",
              "      <td>655.307566</td>\n",
              "      <td>852.167237</td>\n",
              "      <td>1.060855</td>\n",
              "    </tr>\n",
              "    <tr>\n",
              "      <th>C6</th>\n",
              "      <td>533.595852</td>\n",
              "      <td>839.198717</td>\n",
              "      <td>1.043937</td>\n",
              "    </tr>\n",
              "    <tr>\n",
              "      <th rowspan=\"6\" valign=\"top\">2</th>\n",
              "      <th>C1</th>\n",
              "      <td>505.249665</td>\n",
              "      <td>863.999073</td>\n",
              "      <td>1.076677</td>\n",
              "    </tr>\n",
              "    <tr>\n",
              "      <th>C2</th>\n",
              "      <td>503.734961</td>\n",
              "      <td>855.287725</td>\n",
              "      <td>1.066351</td>\n",
              "    </tr>\n",
              "    <tr>\n",
              "      <th>C3</th>\n",
              "      <td>503.359856</td>\n",
              "      <td>842.716645</td>\n",
              "      <td>1.051364</td>\n",
              "    </tr>\n",
              "    <tr>\n",
              "      <th>C4</th>\n",
              "      <td>499.000000</td>\n",
              "      <td>768.420000</td>\n",
              "      <td>1.000000</td>\n",
              "    </tr>\n",
              "    <tr>\n",
              "      <th>C5</th>\n",
              "      <td>576.758847</td>\n",
              "      <td>833.102817</td>\n",
              "      <td>1.042834</td>\n",
              "    </tr>\n",
              "    <tr>\n",
              "      <th>C6</th>\n",
              "      <td>533.744789</td>\n",
              "      <td>850.806813</td>\n",
              "      <td>1.061620</td>\n",
              "    </tr>\n",
              "  </tbody>\n",
              "</table>\n",
              "</div>"
            ],
            "text/plain": [
              "                             COMPETITOR_PRICE      REVENUE  QTY_ORDER\n",
              "PROD_ID PAY_TYPE COMPETITOR                                          \n",
              "P1      1        C1               1923.770339   876.745483   1.075718\n",
              "                 C2               1974.177813   898.389943   1.096591\n",
              "                 C3               2226.752121   871.013182   1.070707\n",
              "                 C5               1914.518768   859.192689   1.053221\n",
              "                 C6               1496.508824   858.161912   1.058824\n",
              "        2        C1               1819.925209   870.848953   1.062827\n",
              "                 C2               1925.133390   851.611054   1.045584\n",
              "                 C3               2048.249545   866.528737   1.060606\n",
              "                 C5               1794.965927   898.147949   1.101124\n",
              "                 C6               1496.508824   846.327059   1.029412\n",
              "P2      1        C1                852.174403   879.626043   1.081996\n",
              "                 C2                849.995869   862.002057   1.065603\n",
              "                 C3                771.000469   870.889751   1.070813\n",
              "                 C4                848.236878   873.568337   1.073469\n",
              "                 C5                831.793522   901.444251   1.105263\n",
              "                 C6                863.711446   869.582485   1.072301\n",
              "        2        C1                812.700178   875.460036   1.076649\n",
              "                 C2                822.898777   889.915851   1.095745\n",
              "                 C3                749.668247   876.242864   1.080460\n",
              "                 C4                814.737763   892.635506   1.108274\n",
              "                 C5                737.671336   855.985628   1.048583\n",
              "                 C6                863.888624   868.610459   1.068298\n",
              "P3      1        C1               1346.443167   860.735971   1.089806\n",
              "                 C2               1341.941366   871.805526   1.100363\n",
              "                 C3               1492.536077   821.190742   1.038278\n",
              "                 C4               1702.369469   840.519406   1.062500\n",
              "                 C5               1471.997902   819.113357   1.041958\n",
              "                 C6               1552.353693   852.457638   1.077889\n",
              "        2        C1               1309.980827   862.883175   1.093674\n",
              "                 C2               1329.121891   830.993079   1.053333\n",
              "                 C3               1446.021031   862.942302   1.093525\n",
              "                 C4               1641.930094   854.918589   1.084639\n",
              "                 C5               1314.584406   829.465524   1.069930\n",
              "                 C6               1552.893627   859.498463   1.088161\n",
              "P4      1        C4                604.833204   864.133959   1.099448\n",
              "                 C5                569.000000   857.012500   1.125000\n",
              "                 C6                718.962925   836.545136   1.064626\n",
              "        2        C4                602.188266   855.726181   1.088561\n",
              "                 C5                495.030000   799.000000   1.000000\n",
              "                 C6                718.962925   887.714660   1.125850\n",
              "P5      1        C1               1158.593694   907.831943   1.146497\n",
              "                 C2               1156.689119   903.779465   1.144654\n",
              "                 C3               1132.958259   893.207215   1.129747\n",
              "        2        C1               1148.972102   835.967930   1.054140\n",
              "                 C2               1138.950346   844.713459   1.066038\n",
              "                 C3               1117.651329   914.760886   1.151899\n",
              "P6      1        C1               1901.759529  1190.826986   1.053394\n",
              "                 C2               1924.683940  1169.506676   1.044818\n",
              "                 C3               1887.772539  1163.528513   1.036011\n",
              "                 C4               2007.682941  1191.054235   1.085714\n",
              "                 C6               2150.953839  1221.376031   1.047983\n",
              "        2        C1               1870.672081  1171.460398   1.043439\n",
              "                 C2               1890.217582  1147.337983   1.034547\n",
              "                 C3               1864.488006  1174.973813   1.048015\n",
              "                 C4               1957.466908  1151.540941   1.053782\n",
              "                 C6               2150.953839  1246.522126   1.059978\n",
              "P7      1        C1                958.682238   747.159456   1.050403\n",
              "                 C2                961.276327   780.591918   1.100000\n",
              "                 C3               1000.701484   756.297737   1.064935\n",
              "                 C4                846.747360   754.014453   1.062222\n",
              "                 C5                955.703226   748.808439   1.055484\n",
              "                 C6                797.835907   764.718230   1.084071\n",
              "        2        C1                942.869939   784.274566   1.101010\n",
              "                 C2                942.338650   763.563027   1.075665\n",
              "                 C3                989.408476   779.482881   1.100372\n",
              "                 C4                799.011290   759.695240   1.071174\n",
              "                 C5                858.957713   771.525866   1.089147\n",
              "                 C6                797.946408   782.871707   1.108647\n",
              "P8      1        C1                512.053126   865.937289   1.078150\n",
              "                 C2                508.653244   878.738038   1.096519\n",
              "                 C3                510.616938   841.309203   1.046252\n",
              "                 C4                485.368403   882.055116   1.097222\n",
              "                 C5                609.571429   942.792857   1.142857\n",
              "                 C6                532.940835   903.838070   1.125217\n",
              "        2        C1                507.273099   852.938882   1.059105\n",
              "                 C2                505.761395   858.218463   1.069731\n",
              "                 C3                505.218738   879.266294   1.091054\n",
              "                 C4                479.913063   868.349118   1.076566\n",
              "                 C5                536.422857   835.552857   1.000000\n",
              "                 C6                533.087073   856.420575   1.062718\n",
              "P9      1        C1                511.546093   849.136396   1.055821\n",
              "                 C2                508.815110   843.015000   1.055205\n",
              "                 C3                510.290946   873.785513   1.088141\n",
              "                 C4                499.000000   799.000000   1.000000\n",
              "                 C5                655.307566   852.167237   1.060855\n",
              "                 C6                533.595852   839.198717   1.043937\n",
              "        2        C1                505.249665   863.999073   1.076677\n",
              "                 C2                503.734961   855.287725   1.066351\n",
              "                 C3                503.359856   842.716645   1.051364\n",
              "                 C4                499.000000   768.420000   1.000000\n",
              "                 C5                576.758847   833.102817   1.042834\n",
              "                 C6                533.744789   850.806813   1.061620"
            ]
          },
          "metadata": {
            "tags": []
          },
          "execution_count": 77
        }
      ]
    },
    {
      "cell_type": "markdown",
      "metadata": {
        "id": "J0v0gJlKA0sR"
      },
      "source": [
        "### Comparativo de demanda"
      ]
    },
    {
      "cell_type": "markdown",
      "metadata": {
        "id": "EkSEeFuLzSq7"
      },
      "source": [
        "Como é possível ver abaixo, utilizando o preço médio praticado entre competidores com a quantidade vendida obtém-se uma reta com todos os preços e quantidades que mais favorecem aumento de receita."
      ]
    },
    {
      "cell_type": "code",
      "metadata": {
        "id": "sn0nC8_WN598"
      },
      "source": [
        "avg_comp_price = sales_comp['COMPETITOR_PRICE'].mean()"
      ],
      "execution_count": 98,
      "outputs": []
    },
    {
      "cell_type": "code",
      "metadata": {
        "id": "OPlS9Jp1Mjc3"
      },
      "source": [
        "sales_comp[\"AVG_REVENUE\"] = (sales_comp[\"QTY_ORDER\"] * avg_comp_price)"
      ],
      "execution_count": 81,
      "outputs": []
    },
    {
      "cell_type": "code",
      "metadata": {
        "colab": {
          "base_uri": "https://localhost:8080/",
          "height": 617
        },
        "id": "j4wYSn_SMPOm",
        "outputId": "c5285494-ecdb-45fd-e248-7626e3622373"
      },
      "source": [
        "sns.lmplot(x = \"AVG_REVENUE\", y = \"QTY_ORDER\", data = sales_comp, size = 8)"
      ],
      "execution_count": 83,
      "outputs": [
        {
          "output_type": "execute_result",
          "data": {
            "text/plain": [
              "<seaborn.axisgrid.FacetGrid at 0x7f061442c9d0>"
            ]
          },
          "metadata": {
            "tags": []
          },
          "execution_count": 83
        },
        {
          "output_type": "display_data",
          "data": {
            "image/png": "[encoded data removed]",
            "text/plain": [
              "<Figure size 576x576 with 1 Axes>"
            ]
          },
          "metadata": {
            "tags": [],
            "needs_background": "light"
          }
        }
      ]
    },
    {
      "cell_type": "markdown",
      "metadata": {
        "id": "vIs4P7hEy64X"
      },
      "source": [
        "Ao contrário no grágico abaixo é observado maior dispersão dos pontos em relação a reta nos preços praticados pelos vendedores quando estes não alinham seus preços ao preço dos competidores. Principalmente quando se trata de maiores quantidades e preços mais altos."
      ]
    },
    {
      "cell_type": "code",
      "metadata": {
        "colab": {
          "base_uri": "https://localhost:8080/",
          "height": 616
        },
        "id": "BGC23A4WSYmE",
        "outputId": "e9fe9317-cf7b-4446-e756-bae89408f1f5"
      },
      "source": [
        "sns.lmplot(x = \"REVENUE\", y = \"QTY_ORDER\", data = sales_comp, size = 8)"
      ],
      "execution_count": 53,
      "outputs": [
        {
          "output_type": "execute_result",
          "data": {
            "text/plain": [
              "<seaborn.axisgrid.FacetGrid at 0x7f06144eea10>"
            ]
          },
          "metadata": {
            "tags": []
          },
          "execution_count": 53
        },
        {
          "output_type": "display_data",
          "data": {
            "image/png": "[encoded data removed]",
            "text/plain": [
              "<Figure size 576x576 with 1 Axes>"
            ]
          },
          "metadata": {
            "tags": [],
            "needs_background": "light"
          }
        }
      ]
    },
    {
      "cell_type": "markdown",
      "metadata": {
        "id": "wBhQKQNL3BxB"
      },
      "source": [
        "### Regressão e Elasticidade"
      ]
    },
    {
      "cell_type": "markdown",
      "metadata": {
        "id": "Y79MsleM3w2R"
      },
      "source": [
        "Para obter preço ótimo, será aplicado o modelo de regressão 'Ordinary Least Square(OLS) a curva de demanda encontrada acima. Este modelo fornece as estatísticas, coeficiente e interceptação necessários para obter as equação da função lucro."
      ]
    },
    {
      "cell_type": "markdown",
      "metadata": {
        "id": "J5EispQ85lgi"
      },
      "source": [
        "* Receita\n",
        "<br> receita = quant * preco  | eq (1)\n",
        "* Lucro\n",
        "<br> lucro = receita - custo  | eq (2)\n",
        "<br> lucro = quant * preco - custo  | eq (3)"
      ]
    },
    {
      "cell_type": "code",
      "metadata": {
        "colab": {
          "base_uri": "https://localhost:8080/",
          "height": 141
        },
        "id": "BlRuN00uIyLN",
        "outputId": "0458b9af-d236-4f6a-9c11-45b89103fd70"
      },
      "source": [
        "sales_comp.astype({\"QTY_ORDER\": int}).head(3)"
      ],
      "execution_count": 85,
      "outputs": [
        {
          "output_type": "execute_result",
          "data": {
            "text/html": [
              "<div>\n",
              "<style scoped>\n",
              "    .dataframe tbody tr th:only-of-type {\n",
              "        vertical-align: middle;\n",
              "    }\n",
              "\n",
              "    .dataframe tbody tr th {\n",
              "        vertical-align: top;\n",
              "    }\n",
              "\n",
              "    .dataframe thead th {\n",
              "        text-align: right;\n",
              "    }\n",
              "</style>\n",
              "<table border=\"1\" class=\"dataframe\">\n",
              "  <thead>\n",
              "    <tr style=\"text-align: right;\">\n",
              "      <th></th>\n",
              "      <th>PROD_ID</th>\n",
              "      <th>DATE_EXTRACTION</th>\n",
              "      <th>COMPETITOR</th>\n",
              "      <th>COMPETITOR_PRICE</th>\n",
              "      <th>PAY_TYPE</th>\n",
              "      <th>DATE_ORDER</th>\n",
              "      <th>QTY_ORDER</th>\n",
              "      <th>REVENUE</th>\n",
              "      <th>AVG_REVENUE</th>\n",
              "    </tr>\n",
              "  </thead>\n",
              "  <tbody>\n",
              "    <tr>\n",
              "      <th>0</th>\n",
              "      <td>P6</td>\n",
              "      <td>2015-01-30 08:11:38</td>\n",
              "      <td>C3</td>\n",
              "      <td>1898.0</td>\n",
              "      <td>1</td>\n",
              "      <td>2015-08-02</td>\n",
              "      <td>1</td>\n",
              "      <td>1808.99</td>\n",
              "      <td>1111.281449</td>\n",
              "    </tr>\n",
              "    <tr>\n",
              "      <th>1</th>\n",
              "      <td>P6</td>\n",
              "      <td>2015-01-30 08:11:38</td>\n",
              "      <td>C1</td>\n",
              "      <td>1898.0</td>\n",
              "      <td>1</td>\n",
              "      <td>2015-08-17</td>\n",
              "      <td>1</td>\n",
              "      <td>1674.00</td>\n",
              "      <td>1111.281449</td>\n",
              "    </tr>\n",
              "    <tr>\n",
              "      <th>2</th>\n",
              "      <td>P6</td>\n",
              "      <td>2015-01-30 08:11:38</td>\n",
              "      <td>C6</td>\n",
              "      <td>1999.9</td>\n",
              "      <td>1</td>\n",
              "      <td>2015-08-17</td>\n",
              "      <td>1</td>\n",
              "      <td>1673.95</td>\n",
              "      <td>1111.281449</td>\n",
              "    </tr>\n",
              "  </tbody>\n",
              "</table>\n",
              "</div>"
            ],
            "text/plain": [
              "  PROD_ID      DATE_EXTRACTION COMPETITOR  ...  QTY_ORDER  REVENUE  AVG_REVENUE\n",
              "0      P6  2015-01-30 08:11:38         C3  ...          1  1808.99  1111.281449\n",
              "1      P6  2015-01-30 08:11:38         C1  ...          1  1674.00  1111.281449\n",
              "2      P6  2015-01-30 08:11:38         C6  ...          1  1673.95  1111.281449\n",
              "\n",
              "[3 rows x 9 columns]"
            ]
          },
          "metadata": {
            "tags": []
          },
          "execution_count": 85
        }
      ]
    },
    {
      "cell_type": "code",
      "metadata": {
        "id": "uc18xMx3IvJL"
      },
      "source": [
        "sales_comp[\"PRICE\"] = ( sales_comp[\"REVENUE\"] / sales_comp[\"QTY_ORDER\"])"
      ],
      "execution_count": 88,
      "outputs": []
    },
    {
      "cell_type": "code",
      "metadata": {
        "colab": {
          "base_uri": "https://localhost:8080/"
        },
        "id": "611O7OZn3gu9",
        "outputId": "6c46f2e4-7b6b-4414-e9fb-8fa5dd5a7977"
      },
      "source": [
        "model = ols(\"QTY_ORDER ~ PRICE\", data = sales_comp).fit()\n",
        "print(model.summary())"
      ],
      "execution_count": 89,
      "outputs": [
        {
          "output_type": "stream",
          "text": [
            "                            OLS Regression Results                            \n",
            "==============================================================================\n",
            "Dep. Variable:              QTY_ORDER   R-squared:                       0.001\n",
            "Model:                            OLS   Adj. R-squared:                  0.001\n",
            "Method:                 Least Squares   F-statistic:                     50.14\n",
            "Date:                Sun, 20 Jun 2021   Prob (F-statistic):           1.45e-12\n",
            "Time:                        16:00:32   Log-Likelihood:                -38307.\n",
            "No. Observations:               50114   AIC:                         7.662e+04\n",
            "Df Residuals:                   50112   BIC:                         7.664e+04\n",
            "Df Model:                           1                                         \n",
            "Covariance Type:            nonrobust                                         \n",
            "==============================================================================\n",
            "                 coef    std err          t      P>|t|      [0.025      0.975]\n",
            "------------------------------------------------------------------------------\n",
            "Intercept      1.1268      0.008    139.808      0.000       1.111       1.143\n",
            "PRICE      -6.411e-05   9.05e-06     -7.081      0.000   -8.19e-05   -4.64e-05\n",
            "==============================================================================\n",
            "Omnibus:                   133451.242   Durbin-Watson:                   1.961\n",
            "Prob(Omnibus):                  0.000   Jarque-Bera (JB):       9483995674.684\n",
            "Skew:                          31.648   Prob(JB):                         0.00\n",
            "Kurtosis:                    2133.248   Cond. No.                     3.09e+03\n",
            "==============================================================================\n",
            "\n",
            "Warnings:\n",
            "[1] Standard Errors assume that the covariance matrix of the errors is correctly specified.\n",
            "[2] The condition number is large, 3.09e+03. This might indicate that there are\n",
            "strong multicollinearity or other numerical problems.\n"
          ],
          "name": "stdout"
        }
      ]
    },
    {
      "cell_type": "markdown",
      "metadata": {
        "id": "zbSoflsd7Mfc"
      },
      "source": [
        "* Inserindo os coeficientes de regressão\n",
        "<br> quant = 1.1268 - 6.411 * preco | eq (5)\n",
        "* A função lucro na eq (3) fica\n",
        "<br> lucro = (1.1268 - 6.411 * preco) * preco - custo | eq (6)"
      ]
    },
    {
      "cell_type": "code",
      "metadata": {
        "colab": {
          "base_uri": "https://localhost:8080/",
          "height": 293
        },
        "id": "fu9whxns72EW",
        "outputId": "291cd93f-b2fe-44b1-c91e-33df7fa3df3d"
      },
      "source": [
        "# um possível intervalo de diferentes preços para encontrar preço ótimo\n",
        "Preco = [300, 499, 550, 600, 730, 850, 2000, 3000]\n",
        "# assumindo custo fixo(hipotético)\n",
        "custo = 10000\n",
        "Receita = []\n",
        "for i in Preco:\n",
        "   quantidade_demandada = 1.268 - 6.411 * i\n",
        "   \n",
        "   # funcao lucro\n",
        "   Receita.append((i-cost) * quantidade_demandada)\n",
        "# um dataframe de preco e receita\n",
        "lucro = pd.DataFrame({\"Preco\": Preco, \"Receita\": Receita})\n",
        "# gráfico receita vs preco\n",
        "plt.plot(lucro[\"Preco\"], lucro[\"Receita\"])"
      ],
      "execution_count": 73,
      "outputs": [
        {
          "output_type": "execute_result",
          "data": {
            "text/plain": [
              "[<matplotlib.lines.Line2D at 0x7f06151f64d0>]"
            ]
          },
          "metadata": {
            "tags": []
          },
          "execution_count": 73
        },
        {
          "output_type": "display_data",
          "data": {
            "image/png": "[encoded data removed]",
            "text/plain": [
              "<Figure size 432x288 with 1 Axes>"
            ]
          },
          "metadata": {
            "tags": [],
            "needs_background": "light"
          }
        }
      ]
    },
    {
      "cell_type": "markdown",
      "metadata": {
        "id": "oZoGD6U__DCo"
      },
      "source": [
        "Na curva acima(caso o conjunto de dados não fosse tão homogêneo) o modelo encontraria um coeficiente e interceptação ótimo para obter lucro através de receita máxima. No entanto a receita apresentada no conjunto não gera margem suficiente."
      ]
    },
    {
      "cell_type": "markdown",
      "metadata": {
        "id": "IF5DBzIbABAU"
      },
      "source": [
        "Caso houvese margem o código abaixo encontraria a receita máxima através dos diferentes níveis de preço.\n",
        "<br>\n",
        "* profit[profit['Revenue'] == profit[['Revenue'].max()]]"
      ]
    },
    {
      "cell_type": "markdown",
      "metadata": {
        "id": "blka3lAYg9-D"
      },
      "source": [
        "## SQL"
      ]
    },
    {
      "cell_type": "markdown",
      "metadata": {
        "id": "2LtLDfwkSU0j"
      },
      "source": [
        "Queries executadas no BigQuery"
      ]
    },
    {
      "cell_type": "markdown",
      "metadata": {
        "id": "JBYsrr3whCpi"
      },
      "source": [
        "Média de receita(vendedores) agrupada por produto\n",
        "<br> [Gráfico](https://datastudio.google.com/reporting/5f6b764a-7647-4985-a4c4-12d1f3319a8b)"
      ]
    },
    {
      "cell_type": "code",
      "metadata": {
        "id": "_Hbg0DbpKrb0"
      },
      "source": [
        "SELECT PROD_ID, ROUND(AVG(REVENUE), 2) as AVG_REVENUE\n",
        "FROM `pyanalysis.b2w_data.sales`\n",
        "GROUP BY PROD_ID"
      ],
      "execution_count": null,
      "outputs": []
    },
    {
      "cell_type": "markdown",
      "metadata": {
        "id": "UTpABN3DhHMo"
      },
      "source": [
        "Média de receita(vendedores) por semana\n",
        "<br>[Gráfico](https://datastudio.google.com/reporting/a8f4f19c-e06a-4117-98b2-e67f4d7a55d3)"
      ]
    },
    {
      "cell_type": "code",
      "metadata": {
        "id": "FqBGZXJeh9DB"
      },
      "source": [
        "SELECT ROUND(AVG(REVENUE), 2) as AVG_REVENUE,\n",
        " EXTRACT(WEEK FROM DATE_ORDER) as week_number\n",
        "FROM `pyanalysis.b2w_data.sales`\n",
        "GROUP BY week_number"
      ],
      "execution_count": null,
      "outputs": []
    },
    {
      "cell_type": "markdown",
      "metadata": {
        "id": "WgBVSrj-iYgt"
      },
      "source": [
        "Média preço(competidores) por semana\n",
        "<br>[Gráfico](https://datastudio.google.com/reporting/9ff8b6f3-dcbb-46e9-a005-005f3b8f7467)"
      ]
    },
    {
      "cell_type": "code",
      "metadata": {
        "id": "ZgVlCmlGidC_"
      },
      "source": [
        "SELECT ROUND(AVG(COMPETITOR_PRICE), 2) as AVG_REVENUE,\n",
        " EXTRACT(WEEK FROM DATE_EXTRACTION) as week_number\n",
        "FROM `pyanalysis.b2w_data.comp_prices`\n",
        "GROUP BY week_number"
      ],
      "execution_count": null,
      "outputs": []
    },
    {
      "cell_type": "markdown",
      "metadata": {
        "id": "AnPL6PHkid3K"
      },
      "source": [
        "Média preço(competidores) por categoria\n",
        "<br>[Gráfico](https://datastudio.google.com/reporting/23e75272-e43e-49cd-863a-79d668fd1c00)"
      ]
    },
    {
      "cell_type": "code",
      "metadata": {
        "id": "28GUg4Sliu8B"
      },
      "source": [
        "SELECT COMPETITOR, ROUND(AVG(COMPETITOR_PRICE), 2) as AVG_REVENUE,\n",
        "FROM `pyanalysis.b2w_data.comp_prices`\n",
        "GROUP BY COMPETITOR\n"
      ],
      "execution_count": null,
      "outputs": []
    }
  ]
}